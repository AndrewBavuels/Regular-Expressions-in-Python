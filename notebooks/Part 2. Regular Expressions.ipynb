{
 "cells": [
  {
   "cell_type": "markdown",
   "id": "ed79eb95",
   "metadata": {},
   "source": [
    "**Back to [Strings Operations](http://localhost:8888/notebooks/Part%201.%20Strings%20Operations.ipynb)**"
   ]
  },
  {
   "cell_type": "markdown",
   "id": "cb0af8db",
   "metadata": {},
   "source": [
    "# 1. Regular Expressions"
   ]
  },
  {
   "cell_type": "markdown",
   "id": "b65ecc65",
   "metadata": {},
   "source": [
    "`r'st\\d\\s\\w{3,10}'`"
   ]
  },
  {
   "cell_type": "markdown",
   "id": "b3a467c5",
   "metadata": {},
   "source": [
    "### General Explanation\n",
    "This is a pattern designed to find matches in a string with the following format:\n",
    "\n",
    "1. It starts with `st`.  \n",
    "2. It is followed by a digit (any number from 0 to 9).  \n",
    "3. Next, there is a whitespace character (such as a space, tab, or newline).  \n",
    "4. Then, it includes a word with a length of 3 to 10 alphanumeric characters (letters, numbers, or underscores).  \n",
    "\n",
    "The prefix `r` before the string indicates that it is a **raw string**, meaning that escape characters like `\\` are not interpreted by Python and are passed directly to the regular expression.\n",
    "\n",
    "---\n",
    "\n",
    "### Pattern Breakdown\n",
    "\n",
    "1. **`st`**  \n",
    "   Matches the literal characters `st`.  \n",
    "\n",
    "2. **`\\d`**  \n",
    "   Matches a numeric digit (0-9).  \n",
    "\n",
    "3. **`\\s`**  \n",
    "   Matches a whitespace character, such as:  \n",
    "   - A space (` `).  \n",
    "   - A tab (`\\t`).  \n",
    "   - A newline (`\\n`), among others.  \n",
    "\n",
    "4. **`\\w{3,10}`**  \n",
    "   Matches any alphanumeric character or an underscore (`_`):  \n",
    "   - Uppercase letters (`A-Z`).  \n",
    "   - Lowercase letters (`a-z`).  \n",
    "   - Numbers (`0-9`).  \n",
    "   - Underscore (`_`).  \n",
    "\n",
    "   `{3,10}` specifies that there must be **between 3 and 10 repetitions** of `\\w`.\n"
   ]
  },
  {
   "cell_type": "code",
   "execution_count": 1,
   "id": "3f93d3d2",
   "metadata": {},
   "outputs": [],
   "source": [
    "import re"
   ]
  },
  {
   "cell_type": "markdown",
   "id": "239bb28d",
   "metadata": {},
   "source": [
    "### Find all matches of a pattern\n",
    "`re.findall(r\"regex\",string)`"
   ]
  },
  {
   "cell_type": "code",
   "execution_count": 2,
   "id": "9d1472c9",
   "metadata": {},
   "outputs": [
    {
     "data": {
      "text/plain": [
       "['#movies', '#movies']"
      ]
     },
     "execution_count": 2,
     "metadata": {},
     "output_type": "execute_result"
    }
   ],
   "source": [
    "# We want to find all the macthes of #movies in the following string\n",
    "re.findall(r\"#movies\", \"Love #movies! I had fun yesterday going to the #movies\")"
   ]
  },
  {
   "cell_type": "markdown",
   "id": "1b8570e6",
   "metadata": {},
   "source": [
    "### Split string at each match\n",
    "`re.split(r\"regex\",string)`"
   ]
  },
  {
   "cell_type": "code",
   "execution_count": 3,
   "id": "347c2a2b",
   "metadata": {},
   "outputs": [
    {
     "data": {
      "text/plain": [
       "['Nice Place to eat', \" I'll come back\", ' Excellent meat', '']"
      ]
     },
     "execution_count": 3,
     "metadata": {},
     "output_type": "execute_result"
    }
   ],
   "source": [
    "# We want to split the specified string at every exclamation mark match\n",
    "re.split(r\"!\", \"Nice Place to eat! I'll come back! Excellent meat!\")"
   ]
  },
  {
   "cell_type": "markdown",
   "id": "1fa319cf",
   "metadata": {},
   "source": [
    "### Replace one or many matches with a string:\n",
    "`re.sub(r\"regex\",new,string)`"
   ]
  },
  {
   "cell_type": "code",
   "execution_count": 4,
   "id": "cdf077d9",
   "metadata": {},
   "outputs": [
    {
     "data": {
      "text/plain": [
       "'I have a nice car and a nice house in a nice neighborhood'"
      ]
     },
     "execution_count": 4,
     "metadata": {},
     "output_type": "execute_result"
    }
   ],
   "source": [
    "# We are replacing every match of 'yellow' with the word 'nice'\n",
    "re.sub(r\"yellow\", \"nice\", \"I have a yellow car and a yellow house in a yellow neighborhood\")"
   ]
  },
  {
   "cell_type": "markdown",
   "id": "d7de0bf1",
   "metadata": {},
   "source": [
    "### Supported metacharacters"
   ]
  },
  {
   "cell_type": "markdown",
   "id": "618ff627",
   "metadata": {},
   "source": [
    "`\\d`: Digit or number"
   ]
  },
  {
   "cell_type": "code",
   "execution_count": 5,
   "id": "fc8d2300",
   "metadata": {},
   "outputs": [
    {
     "data": {
      "text/plain": [
       "['User9', 'User8']"
      ]
     },
     "execution_count": 5,
     "metadata": {},
     "output_type": "execute_result"
    }
   ],
   "source": [
    "# Find all matches of the patterns containing 'User' followed by a (number)\n",
    "re.findall(r\"User\\d\", \"The winners are: User9, UserN, User8\")"
   ]
  },
  {
   "cell_type": "markdown",
   "id": "cc04ab77",
   "metadata": {},
   "source": [
    "`\\D`: Non-digit"
   ]
  },
  {
   "cell_type": "code",
   "execution_count": 6,
   "id": "75330981",
   "metadata": {},
   "outputs": [
    {
     "data": {
      "text/plain": [
       "['UserN']"
      ]
     },
     "execution_count": 6,
     "metadata": {},
     "output_type": "execute_result"
    }
   ],
   "source": [
    "# Find all matches of the patterns containing 'User' followed by a (non-digit)\n",
    "re.findall(r\"User\\D\", \"The winners are: User9, UserN, User8\")"
   ]
  },
  {
   "cell_type": "markdown",
   "id": "6500948e",
   "metadata": {},
   "source": [
    "`\\w`: Word"
   ]
  },
  {
   "cell_type": "code",
   "execution_count": 7,
   "id": "c51b9228",
   "metadata": {},
   "outputs": [
    {
     "data": {
      "text/plain": [
       "['User9', 'UserN', 'User8']"
      ]
     },
     "execution_count": 7,
     "metadata": {},
     "output_type": "execute_result"
    }
   ],
   "source": [
    "# Find all matches of the patterns containing 'User' followed by a (any digit or normal character)\n",
    "re.findall(r\"User\\w\", \"The winners are: User9, UserN, User8\")"
   ]
  },
  {
   "cell_type": "markdown",
   "id": "22c25aef",
   "metadata": {},
   "source": [
    "`\\W`: Non-word"
   ]
  },
  {
   "cell_type": "code",
   "execution_count": 8,
   "id": "841426e9",
   "metadata": {},
   "outputs": [
    {
     "data": {
      "text/plain": [
       "['$5']"
      ]
     },
     "execution_count": 8,
     "metadata": {},
     "output_type": "execute_result"
    }
   ],
   "source": [
    "# Find the price in a string\n",
    "re.findall(r\"\\W\\d\", \"This skirt is on sale, only $5 today!\")"
   ]
  },
  {
   "cell_type": "markdown",
   "id": "47d83266",
   "metadata": {},
   "source": [
    "`\\s`: Whitespace"
   ]
  },
  {
   "cell_type": "code",
   "execution_count": 9,
   "id": "62800d06",
   "metadata": {},
   "outputs": [
    {
     "data": {
      "text/plain": [
       "['Data Science']"
      ]
     },
     "execution_count": 9,
     "metadata": {},
     "output_type": "execute_result"
    }
   ],
   "source": [
    "# Find the pattern 'Data Science' (space included between both words)\n",
    "re.findall(r\"Data\\sScience\", \"I enjoy learning Data Science\")"
   ]
  },
  {
   "cell_type": "markdown",
   "id": "d551f926",
   "metadata": {},
   "source": [
    "`\\S`: Non-Whitespace"
   ]
  },
  {
   "cell_type": "code",
   "execution_count": 10,
   "id": "ee26ea3c",
   "metadata": {},
   "outputs": [
    {
     "data": {
      "text/plain": [
       "'I really like ice cream'"
      ]
     },
     "execution_count": 10,
     "metadata": {},
     "output_type": "execute_result"
    }
   ],
   "source": [
    "# Find the matches of 'ice' followed by (any non-space character), then followed by 'cream', replacing with 'ice cream'\n",
    "re.sub(r\"ice\\Scream\", \"ice cream\", \"I really like ice-cream\")"
   ]
  },
  {
   "cell_type": "markdown",
   "id": "230c1769",
   "metadata": {},
   "source": [
    "## Example #1: Are they bots?"
   ]
  },
  {
   "cell_type": "code",
   "execution_count": 11,
   "id": "4613091d",
   "metadata": {},
   "outputs": [],
   "source": [
    "sentiment_analysis = '@robot9! @robot4& I have a good feeling that the show isgoing to be amazing! @robot9$ @robot7%'"
   ]
  },
  {
   "cell_type": "markdown",
   "id": "12e1c06e",
   "metadata": {},
   "source": [
    "- Write a regex that matches the user mentions that starts with `@` and follows the pattern, e.g. `@robot3!`."
   ]
  },
  {
   "cell_type": "code",
   "execution_count": 12,
   "id": "6af9847d",
   "metadata": {},
   "outputs": [],
   "source": [
    "# Write the regex\n",
    "# regex = r\"\\W\\w+\\d\\S\"\n",
    "regex = r\"@robot\\d\\W\""
   ]
  },
  {
   "cell_type": "markdown",
   "id": "e8ea83f8",
   "metadata": {},
   "source": [
    "- Find all the matches of the pattern in the `sentiment_analysis` variable."
   ]
  },
  {
   "cell_type": "code",
   "execution_count": 13,
   "id": "e5034aff",
   "metadata": {},
   "outputs": [
    {
     "name": "stdout",
     "output_type": "stream",
     "text": [
      "['@robot9!', '@robot4&', '@robot9$', '@robot7%']\n"
     ]
    }
   ],
   "source": [
    "# Find all matches of regex\n",
    "print(re.findall(regex, sentiment_analysis))"
   ]
  },
  {
   "cell_type": "markdown",
   "id": "e13adf69",
   "metadata": {},
   "source": [
    "## Example #2: Find the numbers"
   ]
  },
  {
   "cell_type": "code",
   "execution_count": 14,
   "id": "b54e412a",
   "metadata": {},
   "outputs": [
    {
     "name": "stdout",
     "output_type": "stream",
     "text": [
      "Unfortunately one of those moments wasn't a giant squid monster. User_mentions:2, likes: 9, number of retweets: 7\n"
     ]
    }
   ],
   "source": [
    "sentiment_analysis = \"Unfortunately one of those moments wasn't a giant squid monster. User_mentions:2, likes: 9, number of retweets: 7\"\n",
    "print(sentiment_analysis)"
   ]
  },
  {
   "cell_type": "markdown",
   "id": "42c833d8",
   "metadata": {},
   "source": [
    "- Write a regex that matches the number of user mentions given as, for example, `User_mentions:9` in sentiment_analysis."
   ]
  },
  {
   "cell_type": "code",
   "execution_count": 15,
   "id": "e73fa210",
   "metadata": {},
   "outputs": [
    {
     "name": "stdout",
     "output_type": "stream",
     "text": [
      "['User_mentions:2']\n"
     ]
    }
   ],
   "source": [
    "# Write a regex to obtain user mentions\n",
    "print(re.findall(r\"User_mentions:\\d\", sentiment_analysis))"
   ]
  },
  {
   "cell_type": "markdown",
   "id": "38f189ed",
   "metadata": {},
   "source": [
    "- Write a regex that matches the number of likes given as, for example, `likes: 5` in `sentiment_analysis`."
   ]
  },
  {
   "cell_type": "code",
   "execution_count": 16,
   "id": "36d33a5d",
   "metadata": {},
   "outputs": [
    {
     "name": "stdout",
     "output_type": "stream",
     "text": [
      "['likes: 9']\n"
     ]
    }
   ],
   "source": [
    "# Write a regex to obtain number of likes\n",
    "print(re.findall(r\"likes:\\s\\d\", sentiment_analysis))"
   ]
  },
  {
   "cell_type": "markdown",
   "id": "44053c1f",
   "metadata": {},
   "source": [
    "- Write a regex that matches the number of retweets given as, for example, `number of retweets: 4` in `sentiment_analysis`."
   ]
  },
  {
   "cell_type": "code",
   "execution_count": 17,
   "id": "8c18d5a3",
   "metadata": {},
   "outputs": [
    {
     "name": "stdout",
     "output_type": "stream",
     "text": [
      "['number of retweets: 7']\n"
     ]
    }
   ],
   "source": [
    "# Write a regex to obtain number of retweets\n",
    "print(re.findall(r\"number\\sof\\sretweets:\\s\\d\", sentiment_analysis))"
   ]
  },
  {
   "cell_type": "markdown",
   "id": "6fa37c6e",
   "metadata": {},
   "source": [
    "## Example #3: Match and split"
   ]
  },
  {
   "cell_type": "code",
   "execution_count": 18,
   "id": "0d031bbb",
   "metadata": {},
   "outputs": [],
   "source": [
    "sentiment_analysis = 'He#newHis%newTin love with$newPscrappy. #8break%He is&newYmissing him@newLalready'"
   ]
  },
  {
   "cell_type": "markdown",
   "id": "bf4aad7a",
   "metadata": {},
   "source": [
    "- Write a regex that matches the pattern separating the sentences in `sentiment_analysis`, e.g. `&4break!`."
   ]
  },
  {
   "cell_type": "code",
   "execution_count": 19,
   "id": "464614c2",
   "metadata": {},
   "outputs": [
    {
     "name": "stdout",
     "output_type": "stream",
     "text": [
      "['#8break%']\n"
     ]
    }
   ],
   "source": [
    "# Write a regex to match pattern separating sentences\n",
    "regex_sentence = r\"\\W\\dbreak\\W\"\n",
    "print(re.findall(regex_sentence, sentiment_analysis))"
   ]
  },
  {
   "cell_type": "markdown",
   "id": "55ac4710",
   "metadata": {},
   "source": [
    "- Replace `regex_sentence` with a space `\" \"` in the variable `sentiment_analysis`. Assign it to `sentiment_sub`."
   ]
  },
  {
   "cell_type": "code",
   "execution_count": 20,
   "id": "a864c9ba",
   "metadata": {},
   "outputs": [
    {
     "name": "stdout",
     "output_type": "stream",
     "text": [
      "He#newHis%newTin love with$newPscrappy.  He is&newYmissing him@newLalready\n"
     ]
    }
   ],
   "source": [
    "# Replace the regex_sentence with a space\n",
    "sentiment_sub = re.sub(regex_sentence, \" \", sentiment_analysis)\n",
    "print(sentiment_sub)"
   ]
  },
  {
   "cell_type": "markdown",
   "id": "0c1383bc",
   "metadata": {},
   "source": [
    "- Write a regex that matches the pattern separating the words in `sentiment_analysis`, e.g. `#newH`."
   ]
  },
  {
   "cell_type": "code",
   "execution_count": 21,
   "id": "71a30922",
   "metadata": {},
   "outputs": [],
   "source": [
    "# Write a regex to match pattern separating words\n",
    "regex_words = r\"\\Wnew\\w\""
   ]
  },
  {
   "cell_type": "markdown",
   "id": "53112abf",
   "metadata": {},
   "source": [
    "- Replace `regex_words` with a space in the variable `sentiment_sub`. Assign it to `sentiment_final` and print out the result."
   ]
  },
  {
   "cell_type": "code",
   "execution_count": 22,
   "id": "683bbd4b",
   "metadata": {},
   "outputs": [
    {
     "name": "stdout",
     "output_type": "stream",
     "text": [
      "He is in love with scrappy.  He is missing him already\n"
     ]
    }
   ],
   "source": [
    "# Replace the regex_words and print the result\n",
    "sentiment_final = re.sub(regex_words, \" \", sentiment_sub)\n",
    "print(sentiment_final)"
   ]
  },
  {
   "cell_type": "markdown",
   "id": "df7cb6e2",
   "metadata": {},
   "source": [
    "# 2. Repetitions"
   ]
  },
  {
   "cell_type": "markdown",
   "id": "8485668e",
   "metadata": {},
   "source": [
    "### Quantifiers"
   ]
  },
  {
   "cell_type": "code",
   "execution_count": 23,
   "id": "d6afa7a8",
   "metadata": {},
   "outputs": [
    {
     "data": {
      "text/plain": [
       "<re.Match object; span=(0, 12), match='password1234'>"
      ]
     },
     "execution_count": 23,
     "metadata": {},
     "output_type": "execute_result"
    }
   ],
   "source": [
    "import re\n",
    "# We specify '\\w' and '\\d' are repeated 8 and 4 times, respectively\n",
    "password = \"password1234\"\n",
    "re.search(r\"\\w{8}\\d{4}\", password)"
   ]
  },
  {
   "cell_type": "markdown",
   "id": "710f21c3",
   "metadata": {},
   "source": [
    "### A character appears Once or more times: `+`"
   ]
  },
  {
   "cell_type": "code",
   "execution_count": 24,
   "id": "b7b79c8b",
   "metadata": {},
   "outputs": [
    {
     "data": {
      "text/plain": [
       "['4-3', '10-04']"
      ]
     },
     "execution_count": 24,
     "metadata": {},
     "output_type": "execute_result"
    }
   ],
   "source": [
    "# Geting the matches of dates\n",
    "text = \"Date of start: 4-3. Date of registration: 10-04.\"\n",
    "re.findall(r\"\\d+-\\d+\", text)"
   ]
  },
  {
   "cell_type": "markdown",
   "id": "f3ec287d",
   "metadata": {},
   "source": [
    "### A character appears Zero times or more times: `*`"
   ]
  },
  {
   "cell_type": "code",
   "execution_count": 25,
   "id": "9179deb0",
   "metadata": {},
   "outputs": [
    {
     "data": {
      "text/plain": [
       "['@ameli!a', '@joh&&n', '@mary90']"
      ]
     },
     "execution_count": 25,
     "metadata": {},
     "output_type": "execute_result"
    }
   ],
   "source": [
    "# We want to find all mentions of users starting with '@'\n",
    "my_string = \"The concert was amazing! @ameli!a @joh&&n @mary90\"\n",
    "re.findall(r\"@\\w+\\W*\\w+\", my_string)"
   ]
  },
  {
   "cell_type": "markdown",
   "id": "dae1cef1",
   "metadata": {},
   "source": [
    "### A character appears Zero times or just \"once\": `?`"
   ]
  },
  {
   "cell_type": "code",
   "execution_count": 26,
   "id": "c7ada798",
   "metadata": {},
   "outputs": [
    {
     "data": {
      "text/plain": [
       "['color', 'colour']"
      ]
     },
     "execution_count": 26,
     "metadata": {},
     "output_type": "execute_result"
    }
   ],
   "source": [
    "# Finding the word color, regarding its spelling variations\n",
    "text = \"The color of this image is amazing. However, the colour blue could be brighter.\"\n",
    "re.findall(r\"colou?r\", text) # colour is more probably to appear just one time"
   ]
  },
  {
   "cell_type": "markdown",
   "id": "6ca5c4ea",
   "metadata": {},
   "source": [
    "### n times at least, m times at most : {n, m}"
   ]
  },
  {
   "cell_type": "code",
   "execution_count": 27,
   "id": "32e6d431",
   "metadata": {},
   "outputs": [
    {
     "data": {
      "text/plain": [
       "['1-966-847-3131', '54-908-42-42424']"
      ]
     },
     "execution_count": 27,
     "metadata": {},
     "output_type": "execute_result"
    }
   ],
   "source": [
    "# Find all the matches for a phone number\n",
    "phone_number = \"John: 1-966-847-3131 Michelle: 54-908-42-42424\"\n",
    "re.findall(r\"\\d{1,2}-\\d{3}-\\d{2,3}-\\d{4,}\", phone_number)"
   ]
  },
  {
   "cell_type": "markdown",
   "id": "2727e452",
   "metadata": {},
   "source": [
    "### Reminder: the quantifier applies only to the character inmediately to the left\n",
    "`r\"apple+\"` : `+` applies to e and not to apple"
   ]
  },
  {
   "cell_type": "markdown",
   "id": "80ae09ac",
   "metadata": {},
   "source": [
    "## Example #1: Everything clean"
   ]
  },
  {
   "cell_type": "code",
   "execution_count": 28,
   "id": "2a9e51ab",
   "metadata": {},
   "outputs": [],
   "source": [
    "import pandas as pd\n",
    "sentiment_analysis = pd.read_csv('../data/short_tweets.csv')\n",
    "sentiment_analysis = sentiment_analysis.iloc[545:548]\n",
    "sentiment_analysis = sentiment_analysis[\"text\"]"
   ]
  },
  {
   "cell_type": "code",
   "execution_count": 29,
   "id": "d2845cf6",
   "metadata": {},
   "outputs": [
    {
     "data": {
      "text/plain": [
       "545    Boredd. Colddd @blueKnight39 Internet keeps st...\n",
       "546    I had a horrible nightmare last night @anitaLo...\n",
       "547    im lonely  keep me company @YourBestCompany! @...\n",
       "Name: text, dtype: object"
      ]
     },
     "execution_count": 29,
     "metadata": {},
     "output_type": "execute_result"
    }
   ],
   "source": [
    "sentiment_analysis"
   ]
  },
  {
   "cell_type": "markdown",
   "id": "2438cdd2",
   "metadata": {},
   "source": [
    "- Write a regex to find all the matches of `http` links appearing in each `tweet` in `sentiment_analysis`. Print out the result."
   ]
  },
  {
   "cell_type": "code",
   "execution_count": 30,
   "id": "6f5606a9",
   "metadata": {},
   "outputs": [
    {
     "name": "stdout",
     "output_type": "stream",
     "text": [
      "['https://www.tellyourstory.com']\n",
      "[]\n",
      "['https://radio.foxnews.com']\n"
     ]
    }
   ],
   "source": [
    "# Import re module\n",
    "import re\n",
    "\n",
    "for tweet in sentiment_analysis:\n",
    "\t# Write regex to match http links and print out result\n",
    "\tprint(re.findall(r\"http\\S+\", tweet))"
   ]
  },
  {
   "cell_type": "markdown",
   "id": "7b917209",
   "metadata": {},
   "source": [
    "- Write a regex to find all the matches of user mentions appearing in each `tweet` in `sentiment_analysis`. Print out the result."
   ]
  },
  {
   "cell_type": "code",
   "execution_count": 31,
   "id": "130d247d",
   "metadata": {},
   "outputs": [
    {
     "name": "stdout",
     "output_type": "stream",
     "text": [
      "['@blueKnight39']\n",
      "['@anitaLopez98', '@MyredHat31']\n",
      "['@YourBestCompany', '@foxRadio']\n"
     ]
    }
   ],
   "source": [
    "for tweet in sentiment_analysis:\n",
    "    # Write regex to match user mentions and print out result\n",
    "\tprint(re.findall(r\"@\\w+\", tweet))"
   ]
  },
  {
   "cell_type": "markdown",
   "id": "1eb09f56",
   "metadata": {},
   "source": [
    "## Example #2: Some time ago"
   ]
  },
  {
   "cell_type": "code",
   "execution_count": 32,
   "id": "ca045ccf",
   "metadata": {},
   "outputs": [
    {
     "data": {
      "text/plain": [
       "232    I would like to apologize for the repeated Vid...\n",
       "233    @zaydia but i cant figure out how to get there...\n",
       "234    FML: So much for seniority, bc of technologica...\n",
       "Name: text, dtype: object"
      ]
     },
     "execution_count": 32,
     "metadata": {},
     "output_type": "execute_result"
    }
   ],
   "source": [
    "sentiment_analysis = pd.read_csv('../data/short_tweets.csv')\n",
    "sentiment_analysis = sentiment_analysis.iloc[232:235]\n",
    "sentiment_analysis = sentiment_analysis[\"text\"]\n",
    "sentiment_analysis"
   ]
  },
  {
   "cell_type": "markdown",
   "id": "5f7767c8",
   "metadata": {},
   "source": [
    "- Complete the for-loop with a regex that finds all dates in a format similar to `27 minutes ago` or `4 hours ago`."
   ]
  },
  {
   "cell_type": "code",
   "execution_count": 33,
   "id": "861b8147",
   "metadata": {},
   "outputs": [
    {
     "name": "stdout",
     "output_type": "stream",
     "text": [
      "['32 minutes ago']\n",
      "[]\n",
      "[]\n"
     ]
    }
   ],
   "source": [
    "# Complete the for loop with a regex to find dates\n",
    "for date in sentiment_analysis:\n",
    "\tprint(re.findall(r\"\\d{1,2}\\s\\w+\\sago\", date))"
   ]
  },
  {
   "cell_type": "markdown",
   "id": "4d35b157",
   "metadata": {},
   "source": [
    "- Complete the for-loop with a regex that finds all dates in a format similar to `23rd june 2018`."
   ]
  },
  {
   "cell_type": "code",
   "execution_count": 34,
   "id": "d8552c15",
   "metadata": {},
   "outputs": [
    {
     "name": "stdout",
     "output_type": "stream",
     "text": [
      "[]\n",
      "['1st May 2019']\n",
      "['23rd June 2018']\n"
     ]
    }
   ],
   "source": [
    "# Complete the for loop with a regex to find dates\n",
    "for date in sentiment_analysis:\n",
    "\tprint(re.findall(r\"\\d{1,2}\\w+\\s\\w+\\s\\d{4}\", date))"
   ]
  },
  {
   "cell_type": "markdown",
   "id": "5f964fa4",
   "metadata": {},
   "source": [
    "- Complete the for-loop with a regex that finds all dates in a format similar to `1st september 2019 17:25`."
   ]
  },
  {
   "cell_type": "code",
   "execution_count": 35,
   "id": "cf9faf08",
   "metadata": {},
   "outputs": [
    {
     "name": "stdout",
     "output_type": "stream",
     "text": [
      "[]\n",
      "[]\n",
      "['23rd June 2018 17:54']\n"
     ]
    }
   ],
   "source": [
    "# Complete the for loop with a regex to find dates\n",
    "for date in sentiment_analysis:\n",
    "\tprint(re.findall(r\"\\d{1,2}\\w+\\s\\w+\\s\\d{4}\\s\\d{1,2}:\\d{2}\", date))    "
   ]
  },
  {
   "cell_type": "markdown",
   "id": "b0188fb0",
   "metadata": {},
   "source": [
    "## Example #3: Getting tokens"
   ]
  },
  {
   "cell_type": "code",
   "execution_count": 36,
   "id": "624595aa",
   "metadata": {},
   "outputs": [],
   "source": [
    "sentiment_analysis = 'ITS NOT ENOUGH TO SAY THAT IMISS U #MissYou #SoMuch #Friendship #Forever'"
   ]
  },
  {
   "cell_type": "markdown",
   "id": "ea439501",
   "metadata": {},
   "source": [
    "- Write a regex that matches the described hashtag pattern. Assign it to the `regex` variable."
   ]
  },
  {
   "cell_type": "code",
   "execution_count": 37,
   "id": "bf1cb957",
   "metadata": {},
   "outputs": [],
   "source": [
    "# Write a regex matching the hashtag pattern\n",
    "regex = r\"#\\w+\""
   ]
  },
  {
   "cell_type": "markdown",
   "id": "f1f10740",
   "metadata": {},
   "source": [
    "- Replace all the matches of the regex with an empty string `\"\"`. Assign it to `no_hashtag` variable."
   ]
  },
  {
   "cell_type": "code",
   "execution_count": 38,
   "id": "37b6eb42",
   "metadata": {},
   "outputs": [],
   "source": [
    "# Replace the regex by an empty string\n",
    "no_hashtag = re.sub(regex, \"\", sentiment_analysis)"
   ]
  },
  {
   "cell_type": "markdown",
   "id": "7905fe28",
   "metadata": {},
   "source": [
    "- Split the text in the `no_hashtag` variable at every match of one or more consecutive whitespace."
   ]
  },
  {
   "cell_type": "code",
   "execution_count": 39,
   "id": "5d71762a",
   "metadata": {},
   "outputs": [
    {
     "name": "stdout",
     "output_type": "stream",
     "text": [
      "['ITS', 'NOT', 'ENOUGH', 'TO', 'SAY', 'THAT', 'IMISS', 'U', '']\n"
     ]
    }
   ],
   "source": [
    "# Get tokens by splitting text\n",
    "print(re.split(r\"\\s+\", no_hashtag))"
   ]
  }
 ],
 "metadata": {
  "kernelspec": {
   "display_name": "Python 3 (ipykernel)",
   "language": "python",
   "name": "python3"
  },
  "language_info": {
   "codemirror_mode": {
    "name": "ipython",
    "version": 3
   },
   "file_extension": ".py",
   "mimetype": "text/x-python",
   "name": "python",
   "nbconvert_exporter": "python",
   "pygments_lexer": "ipython3",
   "version": "3.11.9"
  }
 },
 "nbformat": 4,
 "nbformat_minor": 5
}
