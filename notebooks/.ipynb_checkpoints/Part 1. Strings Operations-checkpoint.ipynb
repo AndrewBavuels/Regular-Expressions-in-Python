{
 "cells": [
  {
   "cell_type": "markdown",
   "id": "4ecaa663",
   "metadata": {},
   "source": [
    "# 1. String Operations"
   ]
  },
  {
   "cell_type": "markdown",
   "id": "3cea4885",
   "metadata": {},
   "source": [
    "### Changing case"
   ]
  },
  {
   "cell_type": "code",
   "execution_count": 1,
   "id": "fe476bdc",
   "metadata": {},
   "outputs": [],
   "source": [
    "my_string = \"tHis Is a niCe StriNg\""
   ]
  },
  {
   "cell_type": "code",
   "execution_count": 2,
   "id": "cf47e066",
   "metadata": {},
   "outputs": [
    {
     "name": "stdout",
     "output_type": "stream",
     "text": [
      "this is a nice string\n"
     ]
    }
   ],
   "source": [
    "# Converting to lowercase\n",
    "print(my_string.lower())"
   ]
  },
  {
   "cell_type": "code",
   "execution_count": 3,
   "id": "add83d1c",
   "metadata": {},
   "outputs": [
    {
     "name": "stdout",
     "output_type": "stream",
     "text": [
      "THIS IS A NICE STRING\n"
     ]
    }
   ],
   "source": [
    "# Converting to uppercase\n",
    "print(my_string.upper())"
   ]
  },
  {
   "cell_type": "code",
   "execution_count": 4,
   "id": "b5cb0e2a",
   "metadata": {},
   "outputs": [
    {
     "name": "stdout",
     "output_type": "stream",
     "text": [
      "This is a nice string\n"
     ]
    }
   ],
   "source": [
    "# Capitalizing the first character\n",
    "print(my_string.capitalize())"
   ]
  },
  {
   "cell_type": "markdown",
   "id": "3d9ca5b3",
   "metadata": {},
   "source": [
    "### Splitting"
   ]
  },
  {
   "cell_type": "code",
   "execution_count": 5,
   "id": "0ce5f3a7",
   "metadata": {},
   "outputs": [],
   "source": [
    "# Splitting a string into a list of substrings\n",
    "my_string = \"This string will be split\""
   ]
  },
  {
   "cell_type": "code",
   "execution_count": 6,
   "id": "a2d22f61",
   "metadata": {},
   "outputs": [
    {
     "name": "stdout",
     "output_type": "stream",
     "text": [
      "['This', 'string', 'will be split']\n"
     ]
    }
   ],
   "source": [
    "# 'split' starts splitting at the left\n",
    "print(my_string.split(sep=\" \", maxsplit=2)) # maxsplit tells the maximum numbers of substrings we want"
   ]
  },
  {
   "cell_type": "code",
   "execution_count": 7,
   "id": "f6c7b019",
   "metadata": {},
   "outputs": [
    {
     "name": "stdout",
     "output_type": "stream",
     "text": [
      "['This string will', 'be', 'split']\n"
     ]
    }
   ],
   "source": [
    "# 'rsplit' begins at the right of the string\n",
    "print(my_string.rsplit(sep=\" \", maxsplit=2)) # maxsplit tells the maximum numbers of substrings we want"
   ]
  },
  {
   "cell_type": "code",
   "execution_count": 8,
   "id": "5fcb4dbf",
   "metadata": {},
   "outputs": [],
   "source": [
    "# Escape sequences\n",
    "my_string_1 = \"This string will be split\\nin two\" # \\n causes the text following it to move to a new line.\n",
    "\n",
    "my_string_2 = \"This string will be split\\rin two\" # \\r moves the cursor back to the beginning of the line, overwriting any characters that are already there."
   ]
  },
  {
   "cell_type": "code",
   "execution_count": 9,
   "id": "74324b91",
   "metadata": {},
   "outputs": [
    {
     "name": "stdout",
     "output_type": "stream",
     "text": [
      "This string will be split\n",
      "in two\n",
      "This string will be split\r",
      "in two\n"
     ]
    }
   ],
   "source": [
    "# Newline\n",
    "print(my_string_1)\n",
    "\n",
    "# Carriage return\n",
    "print(my_string_2)"
   ]
  },
  {
   "cell_type": "code",
   "execution_count": 10,
   "id": "49a1a627",
   "metadata": {},
   "outputs": [
    {
     "name": "stdout",
     "output_type": "stream",
     "text": [
      "['This string will be split', 'in two']\n"
     ]
    }
   ],
   "source": [
    "# Split the string in the same line returning a list of 2 elements\n",
    "print(my_string_1.splitlines())"
   ]
  },
  {
   "cell_type": "markdown",
   "id": "271af974",
   "metadata": {},
   "source": [
    "### Joining"
   ]
  },
  {
   "cell_type": "code",
   "execution_count": 11,
   "id": "5ea4cabe",
   "metadata": {},
   "outputs": [],
   "source": [
    "my_list = [\"this\", \"would\", \"be\", \"a\", \"string\"]"
   ]
  },
  {
   "cell_type": "code",
   "execution_count": 12,
   "id": "e050c9a6",
   "metadata": {},
   "outputs": [
    {
     "name": "stdout",
     "output_type": "stream",
     "text": [
      "this would be a string\n",
      "this_would_be_a_string\n"
     ]
    }
   ],
   "source": [
    "# Concatenate strings from list or another iterable\n",
    "print(\" \".join(my_list))\n",
    "print(\"_\".join(my_list))"
   ]
  },
  {
   "cell_type": "markdown",
   "id": "7a8bf06e",
   "metadata": {},
   "source": [
    "### Stripping & Trimming"
   ]
  },
  {
   "cell_type": "code",
   "execution_count": 13,
   "id": "ce55e9eb",
   "metadata": {},
   "outputs": [],
   "source": [
    "my_string = \" This string will be stripped\\n\""
   ]
  },
  {
   "cell_type": "code",
   "execution_count": 14,
   "id": "5f0fad34",
   "metadata": {},
   "outputs": [
    {
     "name": "stdout",
     "output_type": "stream",
     "text": [
      "This string will be stripped\n"
     ]
    }
   ],
   "source": [
    "# Strips characters from left to right: .strip()\n",
    "print(my_string.strip())"
   ]
  },
  {
   "cell_type": "code",
   "execution_count": 15,
   "id": "70f8daa0",
   "metadata": {},
   "outputs": [
    {
     "name": "stdout",
     "output_type": "stream",
     "text": [
      " This string will be stripped\n"
     ]
    }
   ],
   "source": [
    "# Remove characters from the right end: .rstrip()\n",
    "print(my_string.rstrip())"
   ]
  },
  {
   "cell_type": "code",
   "execution_count": 16,
   "id": "839275ff",
   "metadata": {},
   "outputs": [
    {
     "name": "stdout",
     "output_type": "stream",
     "text": [
      "This string will be stripped\n",
      "\n"
     ]
    }
   ],
   "source": [
    "# Remove characters from the left end: .lstrip()\n",
    "print(my_string.lstrip())"
   ]
  },
  {
   "cell_type": "markdown",
   "id": "4408650d",
   "metadata": {},
   "source": [
    "## Example #1: Normalizing reviews"
   ]
  },
  {
   "cell_type": "code",
   "execution_count": 17,
   "id": "dd02616b",
   "metadata": {},
   "outputs": [],
   "source": [
    "movie = \"$I supposed that coming from MTV Films I should expect no less$\""
   ]
  },
  {
   "cell_type": "code",
   "execution_count": 18,
   "id": "e8f94259",
   "metadata": {},
   "outputs": [
    {
     "name": "stdout",
     "output_type": "stream",
     "text": [
      "$i supposed that coming from mtv films i should expect no less$\n"
     ]
    }
   ],
   "source": [
    "# Convert the string in the variable movie to lowercase. Print the result.\n",
    "movie_lower = movie.lower()\n",
    "print(movie_lower)"
   ]
  },
  {
   "cell_type": "code",
   "execution_count": 19,
   "id": "2b65e7ae",
   "metadata": {},
   "outputs": [
    {
     "name": "stdout",
     "output_type": "stream",
     "text": [
      "i supposed that coming from mtv films i should expect no less\n"
     ]
    }
   ],
   "source": [
    "# Remove the $ that occur at the start and at the end of the string contained in movie_lower. Print the results.\n",
    "movie_no_sign = movie_lower.strip(\"$\")\n",
    "print(movie_no_sign)"
   ]
  },
  {
   "cell_type": "code",
   "execution_count": 20,
   "id": "5a906cdf",
   "metadata": {},
   "outputs": [
    {
     "name": "stdout",
     "output_type": "stream",
     "text": [
      "['i', 'supposed', 'that', 'coming', 'from', 'mtv', 'films', 'i', 'should', 'expect', 'no', 'less']\n"
     ]
    }
   ],
   "source": [
    "# Split the string contained in movie_no_sign into as many substrings as possible. Print the results.\n",
    "movie_split = movie_no_sign.split()\n",
    "print(movie_split)"
   ]
  },
  {
   "cell_type": "code",
   "execution_count": 21,
   "id": "26b3dab9",
   "metadata": {},
   "outputs": [
    {
     "name": "stdout",
     "output_type": "stream",
     "text": [
      "suppose\n"
     ]
    }
   ],
   "source": [
    "# To get the root of the second word contained in movie_split, select all the characters except the last one.\n",
    "word_root = movie_split[1][:-1]\n",
    "print(word_root)"
   ]
  },
  {
   "cell_type": "markdown",
   "id": "01a9ace4",
   "metadata": {},
   "source": [
    "## Example #2: Time to join!"
   ]
  },
  {
   "cell_type": "code",
   "execution_count": 22,
   "id": "6b812792",
   "metadata": {},
   "outputs": [],
   "source": [
    "movie = \"the film,however,is all good<\\i>\""
   ]
  },
  {
   "cell_type": "code",
   "execution_count": 23,
   "id": "b57869ba",
   "metadata": {},
   "outputs": [
    {
     "name": "stdout",
     "output_type": "stream",
     "text": [
      "the film,however,is all good\n"
     ]
    }
   ],
   "source": [
    "# Remove tag <\\i> from the end of the string. Print the results.\n",
    "movie_tag = movie.rstrip('<\\i>')\n",
    "print(movie_tag)"
   ]
  },
  {
   "cell_type": "code",
   "execution_count": 24,
   "id": "7262f62b",
   "metadata": {},
   "outputs": [
    {
     "name": "stdout",
     "output_type": "stream",
     "text": [
      "['the film', 'however', 'is all good']\n"
     ]
    }
   ],
   "source": [
    "# Split the string using commas and print results\n",
    "movie_no_comma = movie_tag.split(sep=\",\")\n",
    "print(movie_no_comma)"
   ]
  },
  {
   "cell_type": "code",
   "execution_count": 25,
   "id": "34a28548",
   "metadata": {},
   "outputs": [
    {
     "name": "stdout",
     "output_type": "stream",
     "text": [
      "the film however is all good\n"
     ]
    }
   ],
   "source": [
    "# Join back together and print results\n",
    "movie_join = \" \".join(movie_no_comma)\n",
    "print(movie_join)"
   ]
  },
  {
   "cell_type": "markdown",
   "id": "d0a9c7ec",
   "metadata": {},
   "source": [
    "## Example #3: Split lines or split the line?"
   ]
  },
  {
   "cell_type": "code",
   "execution_count": 26,
   "id": "f45a4db7",
   "metadata": {},
   "outputs": [],
   "source": [
    "file = \"mtv films election, a high school comedy, is a current example from there, director steven spielberg wastes no time, taking us into the water on a midnight swim\""
   ]
  },
  {
   "cell_type": "code",
   "execution_count": 27,
   "id": "17371366",
   "metadata": {},
   "outputs": [
    {
     "name": "stdout",
     "output_type": "stream",
     "text": [
      "['mtv films election, a high school comedy, is a current example from there, director steven spielberg wastes no time, taking us into the water on a midnight swim']\n"
     ]
    }
   ],
   "source": [
    "# Split the string file into many substrings at line boundaries.\n",
    "file_split = file.splitlines()\n",
    "print(file_split)"
   ]
  },
  {
   "cell_type": "code",
   "execution_count": 28,
   "id": "46ff4fb9",
   "metadata": {},
   "outputs": [
    {
     "name": "stdout",
     "output_type": "stream",
     "text": [
      "['mtv films election', ' a high school comedy', ' is a current example from there', ' director steven spielberg wastes no time', ' taking us into the water on a midnight swim']\n"
     ]
    }
   ],
   "source": [
    "# Complete the for-loop to split the strings into many substrings using commas as a separator element.\n",
    "\n",
    "for substring in file_split:\n",
    "    substring_split = substring.split(\",\")\n",
    "    print(substring_split)"
   ]
  },
  {
   "cell_type": "markdown",
   "id": "0bf88de4",
   "metadata": {},
   "source": [
    "# 2. Finding and Replacing"
   ]
  },
  {
   "cell_type": "markdown",
   "id": "456249b2",
   "metadata": {},
   "source": [
    "### Find"
   ]
  },
  {
   "cell_type": "code",
   "execution_count": 29,
   "id": "6b90e0a1",
   "metadata": {},
   "outputs": [],
   "source": [
    "my_string = \"Where's Waldo\""
   ]
  },
  {
   "cell_type": "code",
   "execution_count": 30,
   "id": "3f1955f7",
   "metadata": {},
   "outputs": [
    {
     "data": {
      "text/plain": [
       "8"
      ]
     },
     "execution_count": 30,
     "metadata": {},
     "output_type": "execute_result"
    }
   ],
   "source": [
    "# Finding the lowest index a specified substring\n",
    "my_string.find(\"Waldo\")"
   ]
  },
  {
   "cell_type": "code",
   "execution_count": 31,
   "id": "7afbba61",
   "metadata": {},
   "outputs": [
    {
     "name": "stdout",
     "output_type": "stream",
     "text": [
      "-1\n",
      "8\n"
     ]
    }
   ],
   "source": [
    "# Searches for \"Waldo\" between indices 0 (inclusive) and 6 (exclusive). Returns -1 because \"Waldo\" is not in this range.\n",
    "print(my_string.find(\"Waldo\", 0, 6))  \n",
    "\n",
    "# Searches for \"Waldo\" between indices 7 (inclusive) and 13 (exclusive). Returns 8 because \"Waldo\" starts at index 8 within this range.\n",
    "print(my_string.find(\"Waldo\", 7, 13))  "
   ]
  },
  {
   "cell_type": "markdown",
   "id": "c6d8274a",
   "metadata": {},
   "source": [
    "### Index"
   ]
  },
  {
   "cell_type": "code",
   "execution_count": 32,
   "id": "d967bf3f",
   "metadata": {},
   "outputs": [
    {
     "name": "stdout",
     "output_type": "stream",
     "text": [
      "Not found\n"
     ]
    }
   ],
   "source": [
    "# The index method raises an Exception, different from .find() that returns -1\n",
    "try:\n",
    "    my_string.index(\"Wenda\")\n",
    "except ValueError:\n",
    "    print(\"Not found\")"
   ]
  },
  {
   "cell_type": "markdown",
   "id": "9a7d00b1",
   "metadata": {},
   "source": [
    "### Count"
   ]
  },
  {
   "cell_type": "code",
   "execution_count": 33,
   "id": "32c38b53",
   "metadata": {},
   "outputs": [
    {
     "name": "stdout",
     "output_type": "stream",
     "text": [
      "2\n",
      "1\n"
     ]
    }
   ],
   "source": [
    "# How many times the substring appears in a string\n",
    "my_string = \"How many fruits do you have in your fruit basket\"\n",
    "print(my_string.count(\"fruit\"))\n",
    "print(my_string.count(\"fruit\",0,16))"
   ]
  },
  {
   "cell_type": "markdown",
   "id": "7fab0700",
   "metadata": {},
   "source": [
    "### Replace"
   ]
  },
  {
   "cell_type": "code",
   "execution_count": 34,
   "id": "ab9e5a5e",
   "metadata": {},
   "outputs": [
    {
     "name": "stdout",
     "output_type": "stream",
     "text": [
      "The red car is between the blue car and the old car\n",
      "The red car is between the blue car and the old house\n"
     ]
    }
   ],
   "source": [
    "# Replace substrings with new substrings\n",
    "my_string = \"The red house is between the blue house and the old house\"\n",
    "print(my_string.replace(\"house\",\"car\"))\n",
    "print(my_string.replace(\"house\",\"car\",2))"
   ]
  },
  {
   "cell_type": "markdown",
   "id": "131c4457",
   "metadata": {},
   "source": [
    "## Example #1: Finding a substring"
   ]
  },
  {
   "cell_type": "code",
   "execution_count": 35,
   "id": "5db59a20",
   "metadata": {},
   "outputs": [],
   "source": [
    "import pandas as pd\n",
    "movies = pd.read_csv('short_movies.csv')\n",
    "movies = movies.iloc[200:203]\n",
    "movies = movies[\"text\"]"
   ]
  },
  {
   "cell_type": "code",
   "execution_count": 36,
   "id": "6a72fe6c",
   "metadata": {},
   "outputs": [
    {
     "data": {
      "text/plain": [
       "200    it's clear that he's passionate about his beli...\n",
       "201    I believe you I always said that the actor act...\n",
       "202    it's astonishing how frightening the actor act...\n",
       "Name: text, dtype: object"
      ]
     },
     "execution_count": 36,
     "metadata": {},
     "output_type": "execute_result"
    }
   ],
   "source": [
    "movies"
   ]
  },
  {
   "cell_type": "code",
   "execution_count": 37,
   "id": "fe307ad5",
   "metadata": {},
   "outputs": [
    {
     "name": "stdout",
     "output_type": "stream",
     "text": [
      "Word not found\n",
      "I believe you I always said that the actor is amazing in every movie he has played\n",
      "it's astonishing how frightening the actor norton looks with a shaved head and a swastika on his chest.\n"
     ]
    }
   ],
   "source": [
    "for movie in movies:\n",
    "  \t# If actor is not found between character 37 and 41 inclusive\n",
    "    # Print word not found\n",
    "    if movie.find(\"actor\", 37, 42) == -1:\n",
    "        print(\"Word not found\")\n",
    "    # Count occurrences and replace two with one\n",
    "    elif movie.count(\"actor\") == 2:  \n",
    "        print(movie.replace(\"actor actor\", \"actor\"))\n",
    "    else:\n",
    "        # Replace three occurrences with one\n",
    "        print(movie.replace(\"actor actor actor\", \"actor\"))"
   ]
  },
  {
   "cell_type": "markdown",
   "id": "3f22d170",
   "metadata": {},
   "source": [
    "## Example #2: Where's the word?"
   ]
  },
  {
   "cell_type": "code",
   "execution_count": 38,
   "id": "aef00a30",
   "metadata": {},
   "outputs": [
    {
     "name": "stdout",
     "output_type": "stream",
     "text": [
      "-1\n",
      "-1\n",
      "-1\n"
     ]
    }
   ],
   "source": [
    "# Find the index where money occurs between characters with index 12 and 50. If not found, the method should return -1.\n",
    "for movie in movies:\n",
    "  # Find the first occurrence of word\n",
    "  print(movie.find(\"money\", 12, 51))"
   ]
  },
  {
   "cell_type": "code",
   "execution_count": 39,
   "id": "3f4d691f",
   "metadata": {},
   "outputs": [
    {
     "name": "stdout",
     "output_type": "stream",
     "text": [
      "substring not found\n",
      "substring not found\n",
      "substring not found\n"
     ]
    }
   ],
   "source": [
    "# Find the index where money occurs between characters with index 12 and 50. If not found, it should raise an error.\n",
    "for movie in movies:\n",
    "  try:\n",
    "    # Find the first occurrence of word\n",
    "  \tprint(movie.index(\"money\", 12, 51))\n",
    "  except ValueError:\n",
    "    print(\"substring not found\")"
   ]
  },
  {
   "cell_type": "markdown",
   "id": "ca150e8e",
   "metadata": {},
   "source": [
    "## Example #3: Replacing negations"
   ]
  },
  {
   "cell_type": "code",
   "execution_count": 40,
   "id": "132620c1",
   "metadata": {},
   "outputs": [],
   "source": [
    "movies = \"the rest of the story isn't important because all it does is serve as a mere backdrop for the two stars to share the screen .\""
   ]
  },
  {
   "cell_type": "code",
   "execution_count": 41,
   "id": "29e0f0cb",
   "metadata": {},
   "outputs": [
    {
     "name": "stdout",
     "output_type": "stream",
     "text": [
      "the rest of the story is insignificant because all it does is serve as a mere backdrop for the two stars to share the screen .\n"
     ]
    }
   ],
   "source": [
    "# Replace the substring isn't with the word is.\n",
    "movies_no_negation = movies.replace(\"isn't\", \"is\")\n",
    "\n",
    "# Replace the substring important with the word insignificant.\n",
    "movies_antonym = movies_no_negation.replace(\"important\", \"insignificant\")\n",
    "\n",
    "# Print out the result contained in the variable movies_antonym\n",
    "print(movies_antonym)"
   ]
  },
  {
   "cell_type": "markdown",
   "id": "02f6706a",
   "metadata": {},
   "source": [
    "# 2. Formatting Strings"
   ]
  },
  {
   "cell_type": "code",
   "execution_count": 42,
   "id": "cc5b30c9",
   "metadata": {},
   "outputs": [
    {
     "name": "stdout",
     "output_type": "stream",
     "text": [
      "String formatting is a powerful technique\n"
     ]
    }
   ],
   "source": [
    "custom_string = \"String formatting\"\n",
    "print(f\"{custom_string} is a powerful technique\")"
   ]
  },
  {
   "cell_type": "markdown",
   "id": "f733d9e8",
   "metadata": {},
   "source": [
    "### Positional formatting"
   ]
  },
  {
   "cell_type": "code",
   "execution_count": 43,
   "id": "28c56ba0",
   "metadata": {},
   "outputs": [
    {
     "name": "stdout",
     "output_type": "stream",
     "text": [
      "Machine learning provides systems the ability to learn automaticaly\n"
     ]
    }
   ],
   "source": [
    "# Placeholder replace by value - 'text{}'.format(value)\n",
    "print(\"Machine learning provides {} the ability to learn {}\".format(\"systems\", \"automaticaly\"))"
   ]
  },
  {
   "cell_type": "code",
   "execution_count": 44,
   "id": "ee8343f0",
   "metadata": {},
   "outputs": [
    {
     "name": "stdout",
     "output_type": "stream",
     "text": [
      "Supervised algorithms rely on labeled datasets\n"
     ]
    }
   ],
   "source": [
    "# Variables ofr initial string and values passed into the method\n",
    "my_string = \"{} rely on {} datasets\"\n",
    "method = \"Supervised algorithms\"\n",
    "condition = \"labeled\"\n",
    "print(my_string.format(method, condition))"
   ]
  },
  {
   "cell_type": "markdown",
   "id": "76080aba",
   "metadata": {},
   "source": [
    "### Reordering values"
   ]
  },
  {
   "cell_type": "code",
   "execution_count": 45,
   "id": "6a957aad",
   "metadata": {},
   "outputs": [
    {
     "name": "stdout",
     "output_type": "stream",
     "text": [
      "Betty has a friend called Linda and a sister called Daisy\n",
      "Daisy has a friend called Betty and a sister called Linda\n"
     ]
    }
   ],
   "source": [
    "# Include an index number into the placeholders to reorder values\n",
    "print(\"{} has a friend called {} and a sister called {}\".format(\"Betty\",\"Linda\",\"Daisy\"))\n",
    "print(\"{2} has a friend called {0} and a sister called {1}\".format(\"Betty\",\"Linda\",\"Daisy\"))"
   ]
  },
  {
   "cell_type": "markdown",
   "id": "3655b8ba",
   "metadata": {},
   "source": [
    "### Named placeholders"
   ]
  },
  {
   "cell_type": "code",
   "execution_count": 46,
   "id": "95937c8c",
   "metadata": {},
   "outputs": [
    {
     "name": "stdout",
     "output_type": "stream",
     "text": [
      "Unsupervised algorithms try to find patterns in the dataset\n"
     ]
    }
   ],
   "source": [
    "# Specify a name for the placeholders\n",
    "tool = \"Unsupervised algorithms\"\n",
    "goal = \"patterns\"\n",
    "print(\"{title} try to find {aim} in the dataset\".format(title=tool, aim=goal))"
   ]
  },
  {
   "cell_type": "code",
   "execution_count": 47,
   "id": "d5d71576",
   "metadata": {},
   "outputs": [
    {
     "name": "stdout",
     "output_type": "stream",
     "text": [
      "Unsupervised algorithms try to find patterns in the dataset\n"
     ]
    }
   ],
   "source": [
    "my_methods = {\"tool\": \"Unsupervised algorithms\", \"goal\":\"patterns\"}\n",
    "print('{data[tool]} try to find {data[goal]} in the dataset'.format(data=my_methods))"
   ]
  },
  {
   "cell_type": "markdown",
   "id": "baa3d7a7",
   "metadata": {},
   "source": [
    "### Format specifier"
   ]
  },
  {
   "cell_type": "code",
   "execution_count": 48,
   "id": "2c198cdd",
   "metadata": {},
   "outputs": [
    {
     "name": "stdout",
     "output_type": "stream",
     "text": [
      "Only 0.515567% of the data produced worldwide is analyzed!\n",
      "Only 0.52% of the data produced worldwide is analyzed!\n"
     ]
    }
   ],
   "source": [
    "# Specify data type to be used: {index:specifier}\n",
    "print(\"Only {0:f}% of the {1} produced worldwide is {2}!\".format(0.5155675,\"data\",\"analyzed\"))\n",
    "print(\"Only {0:.2f}% of the {1} produced worldwide is {2}!\".format(0.5155675,\"data\",\"analyzed\"))"
   ]
  },
  {
   "cell_type": "markdown",
   "id": "463c4fd0",
   "metadata": {},
   "source": [
    "### Formatting datetime"
   ]
  },
  {
   "cell_type": "code",
   "execution_count": 49,
   "id": "50e72299",
   "metadata": {},
   "outputs": [
    {
     "name": "stdout",
     "output_type": "stream",
     "text": [
      "2025-01-05 09:33:27.004726\n",
      "Today's date is 2025-01-05 09:33\n"
     ]
    }
   ],
   "source": [
    "from datetime import datetime\n",
    "print(datetime.now())\n",
    "print(\"Today's date is {:%Y-%m-%d %H:%M}\".format(datetime.now()))"
   ]
  },
  {
   "cell_type": "markdown",
   "id": "bb1783cc",
   "metadata": {},
   "source": [
    "## Example #1: Put it in order!"
   ]
  },
  {
   "cell_type": "code",
   "execution_count": 50,
   "id": "95c40526",
   "metadata": {},
   "outputs": [
    {
     "name": "stdout",
     "output_type": "stream",
     "text": [
      "In computer science, artificial intelligence (AI), sometimes called machine intelligence, is intelligence demonstrated by machines, in contrast to the natural intelligence displayed by humans and animals.\n"
     ]
    }
   ],
   "source": [
    "wikipedia_article = \"In computer science, artificial intelligence (AI), sometimes called machine intelligence, is intelligence demonstrated by machines, in contrast to the natural intelligence displayed by humans and animals.\"\n",
    "print(wikipedia_article)"
   ]
  },
  {
   "cell_type": "markdown",
   "id": "384468b8",
   "metadata": {},
   "source": [
    "- Assign the substrings going from the 4th to the 19th character inclusive, and from the 22nd to the 44th character inclusive of `wikipedia_article` to the variables `first_pos` and `second_pos`, respectively. Adjust the strings to be lowercase."
   ]
  },
  {
   "cell_type": "code",
   "execution_count": 51,
   "id": "9b13d9eb",
   "metadata": {},
   "outputs": [
    {
     "name": "stdout",
     "output_type": "stream",
     "text": [
      "computer science artificial intelligence\n"
     ]
    }
   ],
   "source": [
    "# Assign the substrings to the variables\n",
    "first_pos = wikipedia_article[3:19].lower()\n",
    "second_pos = wikipedia_article[21:44].lower()\n",
    "print(first_pos, second_pos)"
   ]
  },
  {
   "cell_type": "markdown",
   "id": "c2b44e2e",
   "metadata": {},
   "source": [
    "- Define a string with the text `\"The tool is used in\"` adding placeholders after the word `tool` and the word `in` for future positional formatting. Append it to the list `my_list.`"
   ]
  },
  {
   "cell_type": "code",
   "execution_count": 52,
   "id": "23d70a9f",
   "metadata": {},
   "outputs": [],
   "source": [
    "# Define string with placeholders \n",
    "my_list = []\n",
    "my_list.append(\"The tool {} is used in {}\")"
   ]
  },
  {
   "cell_type": "markdown",
   "id": "ac36ee8d",
   "metadata": {},
   "source": [
    "- Now reorder them so the second argument passed to the method will replace the first placeholder. Append to the list `my_list`."
   ]
  },
  {
   "cell_type": "code",
   "execution_count": 53,
   "id": "fbff3c13",
   "metadata": {},
   "outputs": [],
   "source": [
    "# Define string with rearranged placeholders\n",
    "my_list.append(\"The tool {1} is used in {0}\")"
   ]
  },
  {
   "cell_type": "markdown",
   "id": "86684dbd",
   "metadata": {},
   "source": [
    "- Complete the for-loop so that it uses the `.format()` method and the variables `first_pos` and `second_pos` to print out every string in `my_list`."
   ]
  },
  {
   "cell_type": "code",
   "execution_count": 54,
   "id": "d127a17f",
   "metadata": {},
   "outputs": [
    {
     "name": "stdout",
     "output_type": "stream",
     "text": [
      "The tool computer science is used in artificial intelligence\n",
      "The tool artificial intelligence is used in computer science\n"
     ]
    }
   ],
   "source": [
    "# Use format to print strings\n",
    "for my_string in my_list:\n",
    "    print(my_string.format(first_pos, second_pos))"
   ]
  },
  {
   "cell_type": "markdown",
   "id": "6ec20431",
   "metadata": {},
   "source": [
    "## Example #2: Calling by its name"
   ]
  },
  {
   "cell_type": "code",
   "execution_count": 55,
   "id": "b11691d6",
   "metadata": {},
   "outputs": [],
   "source": [
    "courses = ['artificial intelligence', 'neural networks']"
   ]
  },
  {
   "cell_type": "markdown",
   "id": "637151a1",
   "metadata": {},
   "source": [
    "- Create a dictionary assigning the first and second element appearing in the list `courses` to the keys `\"field\"` and `\"tool\"` respectively."
   ]
  },
  {
   "cell_type": "code",
   "execution_count": 56,
   "id": "b126f1c1",
   "metadata": {},
   "outputs": [
    {
     "name": "stdout",
     "output_type": "stream",
     "text": [
      "{'field': 'artificial intelligence', 'tool': 'neural networks'}\n"
     ]
    }
   ],
   "source": [
    "# Create a dictionary\n",
    "plan = {\n",
    "  \t\t\"field\": courses[0],\n",
    "        \"tool\": courses[1]\n",
    "        }\n",
    "print(plan)"
   ]
  },
  {
   "cell_type": "markdown",
   "id": "3cda8c60",
   "metadata": {},
   "source": [
    "- Print out the resulting message using the `.format()` method, passing the `plan` dictionary to replace the `data` placeholders."
   ]
  },
  {
   "cell_type": "code",
   "execution_count": 57,
   "id": "3a9a1c14",
   "metadata": {},
   "outputs": [
    {
     "name": "stdout",
     "output_type": "stream",
     "text": [
      "If you are interested in artificial intelligence, you can take the course related to neural networks\n"
     ]
    }
   ],
   "source": [
    "# Complete the placeholders accessing elements of field and tool keys in the data dictionary\n",
    "my_message = \"If you are interested in {data[field]}, you can take the course related to {data[tool]}\"\n",
    "\n",
    "# Use the plan dictionary to replace placeholders\n",
    "print(my_message.format(data=plan))"
   ]
  },
  {
   "cell_type": "markdown",
   "id": "a096a4f1",
   "metadata": {},
   "source": [
    "## Example #3: What day is today?"
   ]
  },
  {
   "cell_type": "markdown",
   "id": "978722fb",
   "metadata": {},
   "source": [
    "You write down some specifiers to help you: `%d`(day), `%B` (monthname), `%m` (monthnumber), `%Y`(year), `%H` (hour) and `%M`(minutes)"
   ]
  },
  {
   "cell_type": "code",
   "execution_count": 58,
   "id": "34cbf8a2",
   "metadata": {},
   "outputs": [
    {
     "name": "stdout",
     "output_type": "stream",
     "text": [
      "Good morning. Today is January 05, 2025. It's 09:33 ... time to work!\n"
     ]
    }
   ],
   "source": [
    "# Import datetime \n",
    "from datetime import datetime\n",
    "\n",
    "# Assign date to get_date\n",
    "get_date = datetime.now()\n",
    "\n",
    "# Add named placeholders with format specifiers\n",
    "message = \"Good morning. Today is {today:%B %d, %Y}. It's {today:%H:%M} ... time to work!\"\n",
    "\n",
    "# Use the format method replacing the placeholder with get_date\n",
    "print(message.format(today=get_date))"
   ]
  },
  {
   "cell_type": "markdown",
   "id": "5e7456d3",
   "metadata": {},
   "source": [
    "# 3. Formatted string literal"
   ]
  },
  {
   "cell_type": "markdown",
   "id": "3752d706",
   "metadata": {},
   "source": [
    "`f\"literal string {expression}\"`"
   ]
  },
  {
   "cell_type": "code",
   "execution_count": 59,
   "id": "906e28dc",
   "metadata": {},
   "outputs": [
    {
     "name": "stdout",
     "output_type": "stream",
     "text": [
      "Practicing how to code is the best method for learning Python faster\n"
     ]
    }
   ],
   "source": [
    "way = \"code\"\n",
    "method = \"learning Python faster\"\n",
    "print(f\"Practicing how to {way} is the best method for {method}\")"
   ]
  },
  {
   "cell_type": "markdown",
   "id": "485f37be",
   "metadata": {},
   "source": [
    "### Conversions allowed:\n",
    "\n",
    "- `!s`: (string version)\n",
    "\n",
    "- `!r`: (string with printable representation with quotes)\n",
    "\n",
    "- `!a`: (same as !r but escape the non-ASCII characters)"
   ]
  },
  {
   "cell_type": "code",
   "execution_count": 60,
   "id": "0cfae86b",
   "metadata": {},
   "outputs": [
    {
     "name": "stdout",
     "output_type": "stream",
     "text": [
      "Python is called 'Python' due to a comedy series\n"
     ]
    }
   ],
   "source": [
    "# !r (string with printable representation with quotes)\n",
    "name = \"Python\"\n",
    "print(f\"Python is called {name!r} due to a comedy series\")"
   ]
  },
  {
   "cell_type": "markdown",
   "id": "b08236d1",
   "metadata": {},
   "source": [
    "### Format specifiers:\n",
    "\n",
    "- `e`: scientific notation, like 5 10^3\n",
    "\n",
    "- `d`: digit\n",
    "\n",
    "- `f`: float\n",
    "\n",
    "- `datetime`"
   ]
  },
  {
   "cell_type": "code",
   "execution_count": 61,
   "id": "fc174766",
   "metadata": {},
   "outputs": [
    {
     "name": "stdout",
     "output_type": "stream",
     "text": [
      "In the last 2 years, 90.46% of the data was produced worldwide\n"
     ]
    }
   ],
   "source": [
    "number = 90.458513812842\n",
    "print(f\"In the last 2 years, {number:.2f}% of the data was produced worldwide\")"
   ]
  },
  {
   "cell_type": "code",
   "execution_count": 62,
   "id": "4ede60e3",
   "metadata": {},
   "outputs": [
    {
     "name": "stdout",
     "output_type": "stream",
     "text": [
      "Today's date is January 05, 2025\n"
     ]
    }
   ],
   "source": [
    "from datetime import datetime\n",
    "my_today = datetime.now()\n",
    "print(f\"Today's date is {my_today:%B %d, %Y}\")"
   ]
  },
  {
   "cell_type": "markdown",
   "id": "e07c5e59",
   "metadata": {},
   "source": [
    "### Index lookups"
   ]
  },
  {
   "cell_type": "code",
   "execution_count": 63,
   "id": "fd7871ed",
   "metadata": {},
   "outputs": [
    {
     "name": "stdout",
     "output_type": "stream",
     "text": [
      "Is your dad called John?\n"
     ]
    }
   ],
   "source": [
    "family = {\"dad\": \"John\", \"siblings\": \"Peter\"}\n",
    "print(\"Is your dad called {family[dad]}?\".format(family=family))"
   ]
  },
  {
   "cell_type": "code",
   "execution_count": 64,
   "id": "5de08eb9",
   "metadata": {},
   "outputs": [
    {
     "data": {
      "text/plain": [
       "'\\n---------------------------------------------------------------------------\\nNameError                                 Traceback (most recent call last)\\nCell In[64], line 2\\n      1 # Use quotes for index lookups: family[\"dad\"]\\n----> 2 print(f\"Is your dad called {family[dad]}?\")\\n\\nNameError: name \\'dad\\' is not defined\\n'"
      ]
     },
     "execution_count": 64,
     "metadata": {},
     "output_type": "execute_result"
    }
   ],
   "source": [
    "# Use quotes for index lookups: family[\"dad\"]\n",
    "# print(f\"Is your dad called {family[dad]}?\")\n",
    "\"\"\"\n",
    "---------------------------------------------------------------------------\n",
    "NameError                                 Traceback (most recent call last)\n",
    "Cell In[64], line 2\n",
    "      1 # Use quotes for index lookups: family[\"dad\"]\n",
    "----> 2 print(f\"Is your dad called {family[dad]}?\")\n",
    "\n",
    "NameError: name 'dad' is not defined\n",
    "\"\"\""
   ]
  },
  {
   "cell_type": "code",
   "execution_count": 65,
   "id": "cee70faf",
   "metadata": {},
   "outputs": [
    {
     "name": "stdout",
     "output_type": "stream",
     "text": [
      "Is your dad called John?\n",
      "Is your dad called John?\n"
     ]
    }
   ],
   "source": [
    "# Use quotes for index lookups: family[\"dad\"]\n",
    "print(f\"Is your dad called {family['dad']}?\")\n",
    "print(f'Is your dad called {family[\"dad\"]}?')"
   ]
  },
  {
   "cell_type": "markdown",
   "id": "32b7e46b",
   "metadata": {},
   "source": [
    "### Escape sequences"
   ]
  },
  {
   "cell_type": "code",
   "execution_count": 66,
   "id": "9c1a2439",
   "metadata": {},
   "outputs": [
    {
     "name": "stdout",
     "output_type": "stream",
     "text": [
      "My dad is called \"John\"\n"
     ]
    }
   ],
   "source": [
    "# Backslashes\n",
    "print(\"My dad is called \\\"John\\\"\")"
   ]
  },
  {
   "cell_type": "markdown",
   "id": "1257b012",
   "metadata": {},
   "source": [
    "### Inline operations\n",
    "- Advantage: evaluate expressions and call functions inline"
   ]
  },
  {
   "cell_type": "code",
   "execution_count": 67,
   "id": "41cf2e08",
   "metadata": {},
   "outputs": [
    {
     "name": "stdout",
     "output_type": "stream",
     "text": [
      "4 multiplied by 7 is 28\n"
     ]
    }
   ],
   "source": [
    "my_number = 4\n",
    "my_multiplier = 7\n",
    "print(f'{my_number} multiplied by {my_multiplier} is {my_number * my_multiplier}')"
   ]
  },
  {
   "cell_type": "markdown",
   "id": "6b332dae",
   "metadata": {},
   "source": [
    "### Calling functions"
   ]
  },
  {
   "cell_type": "code",
   "execution_count": 68,
   "id": "9347e6c0",
   "metadata": {},
   "outputs": [
    {
     "name": "stdout",
     "output_type": "stream",
     "text": [
      "If you sum up 10 and 20, the result is 30\n"
     ]
    }
   ],
   "source": [
    "def my_function(a,b):\n",
    "    return a + b\n",
    "print(f\"If you sum up 10 and 20, the result is {my_function(10,20)}\")"
   ]
  },
  {
   "cell_type": "markdown",
   "id": "b0298487",
   "metadata": {},
   "source": [
    "## Example #1: Literally formatting"
   ]
  },
  {
   "cell_type": "code",
   "execution_count": 69,
   "id": "b14ac860",
   "metadata": {},
   "outputs": [],
   "source": [
    "field1 = \"sexiest job\"\n",
    "field2 = \"data is produced daily\"\n",
    "field3 = \"Individuals\"\n",
    "fact1 = 21\n",
    "fact2 = 2500000000000000000\n",
    "fact3 = 72.41415415151\n",
    "fact4 = 1.09"
   ]
  },
  {
   "cell_type": "markdown",
   "id": "abb16ad7",
   "metadata": {},
   "source": [
    "- Complete the f-string to include the variable `field1` with quotes and the variable `fact1` as a digit."
   ]
  },
  {
   "cell_type": "code",
   "execution_count": 70,
   "id": "1e2eb284",
   "metadata": {},
   "outputs": [
    {
     "name": "stdout",
     "output_type": "stream",
     "text": [
      "Data science is considered 'sexiest job' in the 21st century\n"
     ]
    }
   ],
   "source": [
    "# Complete the f-string\n",
    "print(f\"Data science is considered {field1!r} in the {fact1}st century\")"
   ]
  },
  {
   "cell_type": "markdown",
   "id": "eb7ce260",
   "metadata": {},
   "source": [
    "- Complete the f-string to include the variable `fact2` using exponential notation, and the variable `field2`."
   ]
  },
  {
   "cell_type": "code",
   "execution_count": 71,
   "id": "2d513ea8",
   "metadata": {},
   "outputs": [
    {
     "name": "stdout",
     "output_type": "stream",
     "text": [
      "About 2.500000e+18 of data is produced daily in the world\n"
     ]
    }
   ],
   "source": [
    "# Complete the f-string\n",
    "print(f\"About {fact2:e} of {field2} in the world\")"
   ]
  },
  {
   "cell_type": "markdown",
   "id": "6afb7a1c",
   "metadata": {},
   "source": [
    "- Complete the f-string to include `field3`, `fact3` rounded to 2 decimals, and `fact4` rounded to one decimal."
   ]
  },
  {
   "cell_type": "code",
   "execution_count": 72,
   "id": "3ed8333b",
   "metadata": {},
   "outputs": [
    {
     "name": "stdout",
     "output_type": "stream",
     "text": [
      "Individuals create around 72.41% of the data but only 1.1% is analyzed\n"
     ]
    }
   ],
   "source": [
    "# Complete the f-string\n",
    "print(f\"{field3} create around {fact3:.2f}% of the data but only {fact4:.1f}% is analyzed\")"
   ]
  },
  {
   "cell_type": "markdown",
   "id": "2ba005e2",
   "metadata": {},
   "source": [
    "## Example #2: Make this function"
   ]
  },
  {
   "cell_type": "code",
   "execution_count": 73,
   "id": "602e2578",
   "metadata": {},
   "outputs": [],
   "source": [
    "number1 = 120\n",
    "number2 = 7\n",
    "string1 = 'httpswww.regex.com'\n",
    "list_links = ['www.news.com','www.google.com','www.yahoo.com','www.bbc.com',\n",
    "              'www.msn.com','www.facebook.com', 'www.news.google.com']"
   ]
  },
  {
   "cell_type": "markdown",
   "id": "e20abb79",
   "metadata": {},
   "source": [
    "- Inside the f-string, include `number1`,`number2` and the result of dividing `number1` by `number`2 rounded to one decimal."
   ]
  },
  {
   "cell_type": "code",
   "execution_count": 74,
   "id": "e2446686",
   "metadata": {},
   "outputs": [
    {
     "name": "stdout",
     "output_type": "stream",
     "text": [
      "120 tweets were downloaded in 7 minutes indicating a speed of 17.1 tweets per min\n"
     ]
    }
   ],
   "source": [
    "# Include both variables and the result of dividing them \n",
    "print(f\"{number1} tweets were downloaded in {number2} minutes indicating a speed of {number1/number2:.1f} tweets per min\")"
   ]
  },
  {
   "cell_type": "markdown",
   "id": "e7f23aad",
   "metadata": {},
   "source": [
    "- Inside the f-string, use `.replace()` to replace the substring `https` with an empty substring in string1."
   ]
  },
  {
   "cell_type": "code",
   "execution_count": 75,
   "id": "832099d6",
   "metadata": {},
   "outputs": [
    {
     "name": "stdout",
     "output_type": "stream",
     "text": [
      "www.regex.com\n"
     ]
    }
   ],
   "source": [
    "# Replace the substring https by an empty string\n",
    "print(f\"{string1.replace('https', '')}\")"
   ]
  },
  {
   "cell_type": "markdown",
   "id": "af9a424c",
   "metadata": {},
   "source": [
    "- Inside the f-string, get `list_links` length, multiply it by 100 and divide it by 120. Round the result to two decimals."
   ]
  },
  {
   "cell_type": "code",
   "execution_count": 76,
   "id": "e08570d3",
   "metadata": {},
   "outputs": [
    {
     "name": "stdout",
     "output_type": "stream",
     "text": [
      "Only 5.83% of the posts contain links\n"
     ]
    }
   ],
   "source": [
    "# Divide the length of list by 120 rounded to two decimals\n",
    "print(f\"Only {len(list_links)*100/120:.2f}% of the posts contain links\")"
   ]
  },
  {
   "cell_type": "markdown",
   "id": "a21baa1e",
   "metadata": {},
   "source": [
    "## Example #3: On time"
   ]
  },
  {
   "cell_type": "code",
   "execution_count": 78,
   "id": "6fcb4fa3",
   "metadata": {},
   "outputs": [],
   "source": [
    "from datetime import datetime\n",
    "east = {'date': datetime(2007, 4, 20, 0, 0), 'price': 1232443}\n",
    "west = {'date': datetime(2006, 5, 26, 0, 0), 'price': 1432673}"
   ]
  },
  {
   "cell_type": "markdown",
   "id": "671c456c",
   "metadata": {},
   "source": [
    "- Inside the f-string, access the values of the keys `price` and `date` in `east` dictionary. Format the date to `month-day-year`."
   ]
  },
  {
   "cell_type": "code",
   "execution_count": 79,
   "id": "af0f0c7e",
   "metadata": {},
   "outputs": [
    {
     "name": "stdout",
     "output_type": "stream",
     "text": [
      "The price for a house in the east neighborhood was $1232443 in 04-20-2007\n"
     ]
    }
   ],
   "source": [
    "# Access values of date and price in east dictionary\n",
    "print(f\"The price for a house in the east neighborhood was ${east['price']} in {east['date']:%m-%d-%Y}\")"
   ]
  },
  {
   "cell_type": "markdown",
   "id": "9c0a54b0",
   "metadata": {},
   "source": [
    "- Inside the f-string, access the values of the keys `price` and `date` in `west` dictionary. Format the date to `month-day-year`."
   ]
  },
  {
   "cell_type": "code",
   "execution_count": 80,
   "id": "a749d95d",
   "metadata": {},
   "outputs": [
    {
     "name": "stdout",
     "output_type": "stream",
     "text": [
      "The price for a house in the west neighborhood was $1432673 in 05-26-2006.\n"
     ]
    }
   ],
   "source": [
    "# Access values of date and price in west dictionary\n",
    "print(f\"The price for a house in the west neighborhood was ${west['price']} in {west['date']:%m-%d-%Y}.\")"
   ]
  },
  {
   "cell_type": "markdown",
   "id": "72cd40ce",
   "metadata": {},
   "source": [
    "# 4. Template strings"
   ]
  },
  {
   "cell_type": "code",
   "execution_count": 1,
   "id": "ea9fd229",
   "metadata": {},
   "outputs": [],
   "source": [
    "from string import Template"
   ]
  },
  {
   "cell_type": "markdown",
   "id": "7a9c41da",
   "metadata": {},
   "source": [
    "### Substitution"
   ]
  },
  {
   "cell_type": "code",
   "execution_count": 3,
   "id": "00d8f503",
   "metadata": {},
   "outputs": [
    {
     "data": {
      "text/plain": [
       "'Data science has been called sexiest job of the 21st century'"
      ]
     },
     "execution_count": 3,
     "metadata": {},
     "output_type": "execute_result"
    }
   ],
   "source": [
    "# $identifier\n",
    "my_string = Template('Data science has been called $identifier') # '$' as placeholders or identifiers\n",
    "my_string.substitute(identifier=\"sexiest job of the 21st century\")"
   ]
  },
  {
   "cell_type": "code",
   "execution_count": 4,
   "id": "bfba6f1b",
   "metadata": {},
   "outputs": [
    {
     "data": {
      "text/plain": [
       "'Data science has been called sexiest job of the 21st century'"
      ]
     },
     "execution_count": 4,
     "metadata": {},
     "output_type": "execute_result"
    }
   ],
   "source": [
    "# Many $identifier and variables\n",
    "job = \"Data science\"\n",
    "name = \"sexiest job of the 21st century\"\n",
    "my_string = Template('$title has been called $description')\n",
    "my_string.substitute(title=job,description=name)"
   ]
  },
  {
   "cell_type": "code",
   "execution_count": 5,
   "id": "1c8bed2a",
   "metadata": {},
   "outputs": [
    {
     "data": {
      "text/plain": [
       "'I find Python very interesting but my sister has lost interest'"
      ]
     },
     "execution_count": 5,
     "metadata": {},
     "output_type": "execute_result"
    }
   ],
   "source": [
    "# Use ${identifier} when valid characters follow identifier\n",
    "my_string = Template('I find Python very ${noun}ing but my sister has lost $noun')\n",
    "my_string.substitute(noun=\"interest\")"
   ]
  },
  {
   "cell_type": "code",
   "execution_count": 7,
   "id": "fea8469d",
   "metadata": {},
   "outputs": [
    {
     "data": {
      "text/plain": [
       "'I paid for the Python course only $ 12.50, amazing!'"
      ]
     },
     "execution_count": 7,
     "metadata": {},
     "output_type": "execute_result"
    }
   ],
   "source": [
    "# Working with numbers, using $$ to escape the dollar sign\n",
    "my_string = Template('I paid for the Python course only $$ $price, amazing!')\n",
    "my_string.substitute(price=\"12.50\")"
   ]
  },
  {
   "cell_type": "markdown",
   "id": "bf42c0d6",
   "metadata": {},
   "source": [
    "### Safe substitution"
   ]
  },
  {
   "cell_type": "code",
   "execution_count": 9,
   "id": "b77025a3",
   "metadata": {},
   "outputs": [
    {
     "name": "stdout",
     "output_type": "stream",
     "text": [
      "missing information\n"
     ]
    }
   ],
   "source": [
    "# Raise error when placeholder is missing\n",
    "favorite = dict(flavor=\"chocolate\")\n",
    "my_string = Template('I love $flavor $cake very much')\n",
    "# my_string.substitute(favorite) # KeyError: 'cake'\n",
    "try:\n",
    "    my_string.substitute(favorite)\n",
    "except KeyError:\n",
    "    print(\"missing information\")"
   ]
  },
  {
   "cell_type": "code",
   "execution_count": 10,
   "id": "567be3a2",
   "metadata": {},
   "outputs": [
    {
     "data": {
      "text/plain": [
       "'I love chocolate $cake very much'"
      ]
     },
     "execution_count": 10,
     "metadata": {},
     "output_type": "execute_result"
    }
   ],
   "source": [
    "# Safe substitution\n",
    "favorite = dict(flavor=\"chocolate\")\n",
    "my_string = Template('I love $flavor $cake very much')\n",
    "my_string.safe_substitute(favorite)"
   ]
  },
  {
   "cell_type": "markdown",
   "id": "e02d37b6",
   "metadata": {},
   "source": [
    "## Example #1: Preparing a report"
   ]
  },
  {
   "cell_type": "code",
   "execution_count": 11,
   "id": "df599b9c",
   "metadata": {},
   "outputs": [],
   "source": [
    "tool1 = 'Natural Language Toolkit'\n",
    "tool2 = 'TextBlob'\n",
    "tool3 = 'Gensim'\n",
    "description1 = 'suite of libraries and programs for symbolic and statistical natural language processing (NLP) for English written in the Python programming language. It was developed by Steven Bird and Edward Loper in the Department of Computer and Information Science at the University of Pennsylvania.'\n",
    "description2 = 'Python library for processing textual data. It provides a simple API for diving into common natural language processing tasks such as part-of-speech tagging, noun phrase extraction, sentiment analysis, classification, translation, and more.'\n",
    "description3 = 'robust open-source vector space modeling and topic modeling toolkit implemented in Python. It uses NumPy, SciPy and optionally Cython for performance. Gensim is specifically designed to handle large text collections, using data streaming and efficient incremental algorithms, which differentiates it from most other scientific software packages that only target batch and in-memory processing.'"
   ]
  },
  {
   "cell_type": "code",
   "execution_count": 12,
   "id": "f2180c2c",
   "metadata": {},
   "outputs": [],
   "source": [
    "from string import Template"
   ]
  },
  {
   "cell_type": "markdown",
   "id": "61cb7e7c",
   "metadata": {},
   "source": [
    "- Complete the template using `$tool` and `$description` identifiers.\n",
    "\n"
   ]
  },
  {
   "cell_type": "code",
   "execution_count": 14,
   "id": "8f0cfadb",
   "metadata": {},
   "outputs": [],
   "source": [
    "# Create a template\n",
    "wikipedia = Template(\"$tool is a $description\")"
   ]
  },
  {
   "cell_type": "markdown",
   "id": "79ed7ef5",
   "metadata": {},
   "source": [
    "- Substitute identifiers with the correct tool and description variables in the template and print out the results."
   ]
  },
  {
   "cell_type": "code",
   "execution_count": 15,
   "id": "bceb5a62",
   "metadata": {},
   "outputs": [
    {
     "name": "stdout",
     "output_type": "stream",
     "text": [
      "Natural Language Toolkit is a suite of libraries and programs for symbolic and statistical natural language processing (NLP) for English written in the Python programming language. It was developed by Steven Bird and Edward Loper in the Department of Computer and Information Science at the University of Pennsylvania.\n",
      "TextBlob is a Python library for processing textual data. It provides a simple API for diving into common natural language processing tasks such as part-of-speech tagging, noun phrase extraction, sentiment analysis, classification, translation, and more.\n",
      "Gensim is a robust open-source vector space modeling and topic modeling toolkit implemented in Python. It uses NumPy, SciPy and optionally Cython for performance. Gensim is specifically designed to handle large text collections, using data streaming and efficient incremental algorithms, which differentiates it from most other scientific software packages that only target batch and in-memory processing.\n"
     ]
    }
   ],
   "source": [
    "# Substitute variables in template\n",
    "print(wikipedia.substitute(tool=tool1, description=description1))\n",
    "print(wikipedia.substitute(tool=tool2, description=description2))\n",
    "print(wikipedia.substitute(tool=tool3, description=description3))"
   ]
  },
  {
   "cell_type": "markdown",
   "id": "62009ec6",
   "metadata": {},
   "source": [
    "## Example #2: Identifying prices"
   ]
  },
  {
   "cell_type": "code",
   "execution_count": 16,
   "id": "5c43422d",
   "metadata": {},
   "outputs": [],
   "source": [
    "tools = ['Natural Language Toolkit', '20', 'month']"
   ]
  },
  {
   "cell_type": "markdown",
   "id": "b076f3c7",
   "metadata": {},
   "source": [
    "- Assign the first, second, and third element of `tools` to the variables `our_tool`, `our_fee` and `our_pay` respectively."
   ]
  },
  {
   "cell_type": "code",
   "execution_count": 17,
   "id": "08e7b31d",
   "metadata": {},
   "outputs": [],
   "source": [
    "# Import template\n",
    "from string import Template\n",
    "\n",
    "# Select variables\n",
    "our_tool = tools[0]\n",
    "our_fee = tools[1]\n",
    "our_pay = tools[2]"
   ]
  },
  {
   "cell_type": "markdown",
   "id": "5a589242",
   "metadata": {},
   "source": [
    "- Complete the template string using `$tool`, `$fee`, and `$pay` as identifiers. Add the dollar sign before the `$fee` identifier and add the characters `ly` directly after the `$pay` identifier."
   ]
  },
  {
   "cell_type": "code",
   "execution_count": 20,
   "id": "621acb42",
   "metadata": {},
   "outputs": [],
   "source": [
    "# Create template\n",
    "course = Template(\"We are offering a 3-month beginner course on $tool just for $$ $fee ${pay}ly\")"
   ]
  },
  {
   "cell_type": "markdown",
   "id": "999805ab",
   "metadata": {},
   "source": [
    "- Substitute identifiers with the three variables you created and print out the results."
   ]
  },
  {
   "cell_type": "code",
   "execution_count": 21,
   "id": "f179c742",
   "metadata": {},
   "outputs": [
    {
     "name": "stdout",
     "output_type": "stream",
     "text": [
      "We are offering a 3-month beginner course on Natural Language Toolkit just for $ 20 monthly\n"
     ]
    }
   ],
   "source": [
    "# Substitute identifiers with three variables\n",
    "print(course.substitute(tool=our_tool, fee=our_fee, pay=our_pay))"
   ]
  },
  {
   "cell_type": "markdown",
   "id": "5fcc19f7",
   "metadata": {},
   "source": [
    "## Example #3: Playing safe"
   ]
  },
  {
   "cell_type": "code",
   "execution_count": 22,
   "id": "8cf773ab",
   "metadata": {},
   "outputs": [],
   "source": [
    "answers = {'answer1': 'I really like the app. But there are some features that can be improved'}"
   ]
  },
  {
   "cell_type": "markdown",
   "id": "e6f85d04",
   "metadata": {},
   "source": [
    "- Complete the template string using `$answer1` and `$answer2` as identifiers."
   ]
  },
  {
   "cell_type": "code",
   "execution_count": 23,
   "id": "e8365226",
   "metadata": {},
   "outputs": [],
   "source": [
    "# Complete template string using identifiers\n",
    "the_answers = Template(\"Check your answer 1: $answer1, and your answer 2: $answer2\")"
   ]
  },
  {
   "cell_type": "markdown",
   "id": "550cc89f",
   "metadata": {},
   "source": [
    "- Use the method `.substitute()` to replace the identifiers with the values in `answers` in the predefined template."
   ]
  },
  {
   "cell_type": "code",
   "execution_count": 24,
   "id": "25e7591e",
   "metadata": {},
   "outputs": [
    {
     "name": "stdout",
     "output_type": "stream",
     "text": [
      "Missing information\n"
     ]
    }
   ],
   "source": [
    "# Use substitute to replace identifiers\n",
    "try:\n",
    "    print(the_answers.substitute(answers))\n",
    "except KeyError:\n",
    "    print(\"Missing information\")"
   ]
  },
  {
   "cell_type": "markdown",
   "id": "ddafd454",
   "metadata": {},
   "source": [
    "- Use the method `.safe_substitute()` to replace the identifiers with the values in `answers` in the predefined template."
   ]
  },
  {
   "cell_type": "code",
   "execution_count": 25,
   "id": "d48a9a42",
   "metadata": {},
   "outputs": [
    {
     "name": "stdout",
     "output_type": "stream",
     "text": [
      "Check your answer 1: I really like the app. But there are some features that can be improved, and your answer 2: $answer2\n"
     ]
    }
   ],
   "source": [
    "# Use safe_substitute to replace identifiers\n",
    "try:\n",
    "    print(the_answers.safe_substitute(answers))\n",
    "except KeyError:\n",
    "    print(\"Missing information\")"
   ]
  }
 ],
 "metadata": {
  "kernelspec": {
   "display_name": "Python 3 (ipykernel)",
   "language": "python",
   "name": "python3"
  },
  "language_info": {
   "codemirror_mode": {
    "name": "ipython",
    "version": 3
   },
   "file_extension": ".py",
   "mimetype": "text/x-python",
   "name": "python",
   "nbconvert_exporter": "python",
   "pygments_lexer": "ipython3",
   "version": "3.11.9"
  }
 },
 "nbformat": 4,
 "nbformat_minor": 5
}
