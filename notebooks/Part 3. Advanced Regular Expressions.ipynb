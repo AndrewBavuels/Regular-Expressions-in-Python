{
 "cells": [
  {
   "cell_type": "markdown",
   "id": "793a60ac",
   "metadata": {},
   "source": [
    "**Back to [Part 2. Regular Expressions for Pattern Matching](http://localhost:8888/notebooks/Part%202.%20Regular%20Expressions%20for%20Pattern%20Matching.ipynb)**"
   ]
  },
  {
   "cell_type": "markdown",
   "id": "0cec8e6a",
   "metadata": {},
   "source": [
    "# 1. Capturing groups"
   ]
  },
  {
   "cell_type": "markdown",
   "id": "5f0dcb85",
   "metadata": {},
   "source": [
    "- Match a specic subpattern in a pattern\n",
    "- Use it for further processing"
   ]
  },
  {
   "cell_type": "code",
   "execution_count": 2,
   "id": "f7fa7705",
   "metadata": {},
   "outputs": [
    {
     "name": "stdout",
     "output_type": "stream",
     "text": [
      "Clary has 2 friends who she spends a lot time with. Susan has 3 brothers while John has 4 sisters.\n"
     ]
    }
   ],
   "source": [
    "# We want to extract information about a person, how many and which type of relationships they have\n",
    "text = \"Clary has 2 friends who she spends a lot time with. Susan has 3 brothers while John has 4 sisters.\"\n",
    "print(text)"
   ]
  },
  {
   "cell_type": "code",
   "execution_count": 4,
   "id": "fd1f5f54",
   "metadata": {},
   "outputs": [
    {
     "data": {
      "text/plain": [
       "['Clary has 2 friends', 'Susan has 3 brothers', 'John has 4 sisters']"
      ]
     },
     "execution_count": 4,
     "metadata": {},
     "output_type": "execute_result"
    }
   ],
   "source": [
    "import re\n",
    "re.findall(r'[A-Za-z]+\\s\\w+\\s\\d+\\s\\w+', text)"
   ]
  },
  {
   "cell_type": "markdown",
   "id": "1dce136b",
   "metadata": {},
   "source": [
    "...but we don't want the word **'has'**"
   ]
  },
  {
   "cell_type": "markdown",
   "id": "b926cae0",
   "metadata": {},
   "source": [
    "We start simple by extracting only the names, placing parentheses to **group** those characters:\n",
    "- **Group 1:** `([A-Za-z]+)`"
   ]
  },
  {
   "cell_type": "code",
   "execution_count": 5,
   "id": "82160cf0",
   "metadata": {},
   "outputs": [
    {
     "data": {
      "text/plain": [
       "['Clary', 'Susan', 'John']"
      ]
     },
     "execution_count": 5,
     "metadata": {},
     "output_type": "execute_result"
    }
   ],
   "source": [
    "# Added parentheses to group our first part\n",
    "re.findall(r'([A-Za-z]+)\\s\\w+\\s\\d+\\s\\w+', text)"
   ]
  },
  {
   "cell_type": "markdown",
   "id": "469fbb6a",
   "metadata": {},
   "source": [
    "The entire expression will always be named **Group 0**\n",
    "- **Group 0:** `([A-Za-z]+)\\s\\w+\\s(\\d+)\\s(\\w+)`"
   ]
  },
  {
   "cell_type": "code",
   "execution_count": 6,
   "id": "b65d4761",
   "metadata": {},
   "outputs": [
    {
     "data": {
      "text/plain": [
       "[('Clary', '2', 'friends'),\n",
       " ('Susan', '3', 'brothers'),\n",
       " ('John', '4', 'sisters')]"
      ]
     },
     "execution_count": 6,
     "metadata": {},
     "output_type": "execute_result"
    }
   ],
   "source": [
    "# Let's see the output of the three groups together in the Group 0\n",
    "re.findall(r'([A-Za-z]+)\\s\\w+\\s(\\d+)\\s(\\w+)', text)"
   ]
  },
  {
   "cell_type": "markdown",
   "id": "967e6ef3",
   "metadata": {},
   "source": [
    "In the output, we got a list of tuples:\n",
    "\n",
    "- The first element of each tuple is the match captured corresponding to group one\n",
    "- The second to group two\n",
    "- The last to group three."
   ]
  },
  {
   "cell_type": "markdown",
   "id": "68adafd1",
   "metadata": {},
   "source": [
    "### Organizing the data"
   ]
  },
  {
   "cell_type": "code",
   "execution_count": 7,
   "id": "f49c77e9",
   "metadata": {},
   "outputs": [
    {
     "data": {
      "text/plain": [
       "'Clary'"
      ]
     },
     "execution_count": 7,
     "metadata": {},
     "output_type": "execute_result"
    }
   ],
   "source": [
    "# We place parentheses to capture the name of the owner, the number and type of pet\n",
    "pets = re.findall(r'([A-Za-z]+)\\s\\w+\\s(\\d+)\\s(\\w+)',\"Clary has 2 dogs but John has 3 cats\")\n",
    "pets[0][0]"
   ]
  },
  {
   "cell_type": "markdown",
   "id": "3755cc15",
   "metadata": {},
   "source": [
    "Remember that quantifiers apply to the character immediately to the left:\n",
    "- `r\"apple+\"` : `+` applies to e and not to apple"
   ]
  },
  {
   "cell_type": "code",
   "execution_count": 8,
   "id": "1447e774",
   "metadata": {},
   "outputs": [
    {
     "data": {
      "text/plain": [
       "<re.Match object; span=(16, 22), match='3e4r5f'>"
      ]
     },
     "execution_count": 8,
     "metadata": {},
     "output_type": "execute_result"
    }
   ],
   "source": [
    "# match the group containing a number and any letter. \n",
    "\n",
    "re.search(r\"(\\d[A-Za-z])+\",\"My user name is 3e4r5fg\")\n",
    "\n",
    "# We applied the plus quantifier to specify that we want this group repeated once or more times. "
   ]
  },
  {
   "cell_type": "markdown",
   "id": "9212ddfd",
   "metadata": {},
   "source": [
    "- Capture a repeated group `(\\d+)` vs. repeat a capturing group `(\\d)+`"
   ]
  },
  {
   "cell_type": "code",
   "execution_count": 9,
   "id": "a2ecba0b",
   "metadata": {},
   "outputs": [
    {
     "data": {
      "text/plain": [
       "['5', '3']"
      ]
     },
     "execution_count": 9,
     "metadata": {},
     "output_type": "execute_result"
    }
   ],
   "source": [
    "# we use findall to match a capturing group containing one number. We want this capturing group to be repeated once or more times.\n",
    "my_string = \"My lucky numbers are 8755 and 33\"\n",
    "re.findall(r\"(\\d)+\", my_string)\n",
    "\n",
    "# We get 5 and 3 as an output. Because these numbers are repeated consecutively once or more times. "
   ]
  },
  {
   "cell_type": "code",
   "execution_count": 10,
   "id": "35c2f6f8",
   "metadata": {},
   "outputs": [
    {
     "data": {
      "text/plain": [
       "['8755', '33']"
      ]
     },
     "execution_count": 10,
     "metadata": {},
     "output_type": "execute_result"
    }
   ],
   "source": [
    "# we specify that we should capture a group containing one or more repetitions of a number.\n",
    "my_string = \"My lucky numbers are 8755 and 33\"\n",
    "re.findall(r\"(\\d+)\", my_string)"
   ]
  },
  {
   "cell_type": "markdown",
   "id": "e4ab7c0f",
   "metadata": {},
   "source": [
    "## Example #1: Try another name"
   ]
  },
  {
   "cell_type": "code",
   "execution_count": 11,
   "id": "96064d16",
   "metadata": {},
   "outputs": [],
   "source": [
    "sentiment_analysis = ['Just got ur newsletter, those fares really are unbelievable. Write to statravelAU@gmail.com or statravelpo@hotmail.com. They have amazing prices',\n",
    " 'I should have paid more attention when we covered photoshop in my webpage design class in undergrad. Contact me Hollywoodheat34@msn.net.',\n",
    " 'hey missed ya at the meeting. Read your email! msdrama098@hotmail.com']"
   ]
  },
  {
   "cell_type": "markdown",
   "id": "39d5e928",
   "metadata": {},
   "source": [
    "- Complete the regex to match the email capturing only the name part. The name part appears before the `@`."
   ]
  },
  {
   "cell_type": "code",
   "execution_count": 31,
   "id": "2c085b41",
   "metadata": {},
   "outputs": [],
   "source": [
    "# Write a regex that matches email\n",
    "regex_email = r\"(\\w+[A-Za-z0-9]+)@\\S+?\""
   ]
  },
  {
   "cell_type": "markdown",
   "id": "e7dfcf11",
   "metadata": {},
   "source": [
    "- Find all matches of the regex in each element of `sentiment_analysis` analysis. Assign it to the variable `email_matched`.\n",
    "- Complete the `.format()` method to print the results captured in each element of `sentiment_analysis` analysis."
   ]
  },
  {
   "cell_type": "code",
   "execution_count": 32,
   "id": "c0bb5156",
   "metadata": {},
   "outputs": [
    {
     "name": "stdout",
     "output_type": "stream",
     "text": [
      "Lists of users found in this tweet: ['statravelAU', 'statravelpo']\n",
      "Lists of users found in this tweet: ['Hollywoodheat34']\n",
      "Lists of users found in this tweet: ['msdrama098']\n"
     ]
    }
   ],
   "source": [
    "for tweet in sentiment_analysis:\n",
    "    # Find all matches of regex in each tweet\n",
    "    email_matched = re.findall(regex_email, tweet)\n",
    "\n",
    "    # Complete the format method to print the results\n",
    "    print(\"Lists of users found in this tweet: {}\".format(email_matched))"
   ]
  },
  {
   "cell_type": "markdown",
   "id": "a5a1b2ff",
   "metadata": {},
   "source": [
    "## Example #2: Flying home"
   ]
  },
  {
   "cell_type": "markdown",
   "id": "1f568d67",
   "metadata": {},
   "source": [
    "You need to extract the information about the flight:\n",
    "\n",
    "- The two letters indicate the airline (e.g `LA`),\n",
    "- The 4 numbers are the flight number (e.g. `4214`).\n",
    "- The three letters correspond to the departure (e.g `AER`),\n",
    "- The destination (`CDB`),\n",
    "- The date (`06NOV`) of the flight.\n",
    "\n",
    "All letters are always uppercase."
   ]
  },
  {
   "cell_type": "code",
   "execution_count": 40,
   "id": "e13fccdd",
   "metadata": {},
   "outputs": [],
   "source": [
    "flight = 'Subject: You are now ready to fly. Here you have your boarding pass IB3723 AMS-MAD 06OCT'"
   ]
  },
  {
   "cell_type": "markdown",
   "id": "1c6642b5",
   "metadata": {},
   "source": [
    "- Complete the regular expression to match and capture all the flight information required. Only the first parenthesis were placed for you."
   ]
  },
  {
   "cell_type": "code",
   "execution_count": 41,
   "id": "69c75aee",
   "metadata": {},
   "outputs": [],
   "source": [
    "# Import re\n",
    "import re\n",
    "\n",
    "# Write regex to capture information of the flight\n",
    "regex = r\"([A-Z]{2})(\\d{4})\\s([A-Z]{3})-([A-Z]{3})\\s(\\d{2}[A-Z]{3})\""
   ]
  },
  {
   "cell_type": "markdown",
   "id": "764f6a7d",
   "metadata": {},
   "source": [
    "- Find all the matches corresponding to each piece of information about the flight. Assign it to `flight_matches`."
   ]
  },
  {
   "cell_type": "code",
   "execution_count": 42,
   "id": "dcd2f840",
   "metadata": {},
   "outputs": [
    {
     "name": "stdout",
     "output_type": "stream",
     "text": [
      "[('IB', '3723', 'AMS', 'MAD', '06OCT')]\n"
     ]
    }
   ],
   "source": [
    "# Find all matches of the flight information\n",
    "flight_matches = re.findall(regex, flight)\n",
    "print(flight_matches)"
   ]
  },
  {
   "cell_type": "markdown",
   "id": "162fcf4d",
   "metadata": {},
   "source": [
    "- Complete the format method with the elements contained in `flight_matches`. In the first line print the airline, and the flight number. In the second line, the departure and destination. In the third line, the date."
   ]
  },
  {
   "cell_type": "code",
   "execution_count": 45,
   "id": "b1c61a39",
   "metadata": {},
   "outputs": [
    {
     "name": "stdout",
     "output_type": "stream",
     "text": [
      "Airline: IB Flight number: 3723\n",
      "Departure: AMS Destination: MAD\n",
      "Date: 06OCT\n"
     ]
    }
   ],
   "source": [
    "#Print the matches\n",
    "print(\"Airline: {} Flight number: {}\".format(flight_matches[0][0], flight_matches[0][1]))\n",
    "print(\"Departure: {} Destination: {}\".format(flight_matches[0][2], flight_matches[0][3]))\n",
    "print(\"Date: {}\".format(flight_matches[0][4]))"
   ]
  }
 ],
 "metadata": {
  "kernelspec": {
   "display_name": "Python 3 (ipykernel)",
   "language": "python",
   "name": "python3"
  },
  "language_info": {
   "codemirror_mode": {
    "name": "ipython",
    "version": 3
   },
   "file_extension": ".py",
   "mimetype": "text/x-python",
   "name": "python",
   "nbconvert_exporter": "python",
   "pygments_lexer": "ipython3",
   "version": "3.11.9"
  }
 },
 "nbformat": 4,
 "nbformat_minor": 5
}
