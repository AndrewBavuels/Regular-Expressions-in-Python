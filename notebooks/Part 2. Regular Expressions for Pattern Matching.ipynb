{
 "cells": [
  {
   "cell_type": "markdown",
   "id": "ed79eb95",
   "metadata": {},
   "source": [
    "**Back to [Strings Operations](http://localhost:8888/notebooks/Part%201.%20Strings%20Operations.ipynb)**"
   ]
  },
  {
   "cell_type": "markdown",
   "id": "cb0af8db",
   "metadata": {},
   "source": [
    "# 1. Regular Expressions"
   ]
  },
  {
   "cell_type": "markdown",
   "id": "b65ecc65",
   "metadata": {},
   "source": [
    "`r'st\\d\\s\\w{3,10}'`"
   ]
  },
  {
   "cell_type": "markdown",
   "id": "b3a467c5",
   "metadata": {},
   "source": [
    "### General Explanation\n",
    "This is a pattern designed to find matches in a string with the following format:\n",
    "\n",
    "1. It starts with `st`.  \n",
    "2. It is followed by a digit (any number from 0 to 9).  \n",
    "3. Next, there is a whitespace character (such as a space, tab, or newline).  \n",
    "4. Then, it includes a word with a length of 3 to 10 alphanumeric characters (letters, numbers, or underscores).  \n",
    "\n",
    "The prefix `r` before the string indicates that it is a **raw string**, meaning that escape characters like `\\` are not interpreted by Python and are passed directly to the regular expression.\n",
    "\n",
    "---\n",
    "\n",
    "### Pattern Breakdown\n",
    "\n",
    "1. **`st`**  \n",
    "   Matches the literal characters `st`.  \n",
    "\n",
    "2. **`\\d`**  \n",
    "   Matches a numeric digit (0-9).  \n",
    "\n",
    "3. **`\\s`**  \n",
    "   Matches a whitespace character, such as:  \n",
    "   - A space (` `).  \n",
    "   - A tab (`\\t`).  \n",
    "   - A newline (`\\n`), among others.  \n",
    "\n",
    "4. **`\\w{3,10}`**  \n",
    "   Matches any alphanumeric character or an underscore (`_`):  \n",
    "   - Uppercase letters (`A-Z`).  \n",
    "   - Lowercase letters (`a-z`).  \n",
    "   - Numbers (`0-9`).  \n",
    "   - Underscore (`_`).  \n",
    "\n",
    "   `{3,10}` specifies that there must be **between 3 and 10 repetitions** of `\\w`.\n"
   ]
  },
  {
   "cell_type": "code",
   "execution_count": 1,
   "id": "3f93d3d2",
   "metadata": {},
   "outputs": [],
   "source": [
    "import re"
   ]
  },
  {
   "cell_type": "markdown",
   "id": "239bb28d",
   "metadata": {},
   "source": [
    "### Find all matches of a pattern\n",
    "`re.findall(r\"regex\",string)`"
   ]
  },
  {
   "cell_type": "code",
   "execution_count": 2,
   "id": "9d1472c9",
   "metadata": {},
   "outputs": [
    {
     "data": {
      "text/plain": [
       "['#movies', '#movies']"
      ]
     },
     "execution_count": 2,
     "metadata": {},
     "output_type": "execute_result"
    }
   ],
   "source": [
    "# We want to find all the macthes of #movies in the following string\n",
    "re.findall(r\"#movies\", \"Love #movies! I had fun yesterday going to the #movies\")"
   ]
  },
  {
   "cell_type": "markdown",
   "id": "1b8570e6",
   "metadata": {},
   "source": [
    "### Split string at each match\n",
    "`re.split(r\"regex\",string)`"
   ]
  },
  {
   "cell_type": "code",
   "execution_count": 3,
   "id": "347c2a2b",
   "metadata": {},
   "outputs": [
    {
     "data": {
      "text/plain": [
       "['Nice Place to eat', \" I'll come back\", ' Excellent meat', '']"
      ]
     },
     "execution_count": 3,
     "metadata": {},
     "output_type": "execute_result"
    }
   ],
   "source": [
    "# We want to split the specified string at every exclamation mark match\n",
    "re.split(r\"!\", \"Nice Place to eat! I'll come back! Excellent meat!\")"
   ]
  },
  {
   "cell_type": "markdown",
   "id": "1fa319cf",
   "metadata": {},
   "source": [
    "### Replace one or many matches with a string:\n",
    "`re.sub(r\"regex\",new,string)`"
   ]
  },
  {
   "cell_type": "code",
   "execution_count": 4,
   "id": "cdf077d9",
   "metadata": {},
   "outputs": [
    {
     "data": {
      "text/plain": [
       "'I have a nice car and a nice house in a nice neighborhood'"
      ]
     },
     "execution_count": 4,
     "metadata": {},
     "output_type": "execute_result"
    }
   ],
   "source": [
    "# We are replacing every match of 'yellow' with the word 'nice'\n",
    "re.sub(r\"yellow\", \"nice\", \"I have a yellow car and a yellow house in a yellow neighborhood\")"
   ]
  },
  {
   "cell_type": "markdown",
   "id": "d7de0bf1",
   "metadata": {},
   "source": [
    "### Supported metacharacters"
   ]
  },
  {
   "cell_type": "markdown",
   "id": "618ff627",
   "metadata": {},
   "source": [
    "`\\d`: Digit or number"
   ]
  },
  {
   "cell_type": "code",
   "execution_count": 5,
   "id": "fc8d2300",
   "metadata": {},
   "outputs": [
    {
     "data": {
      "text/plain": [
       "['User9', 'User8']"
      ]
     },
     "execution_count": 5,
     "metadata": {},
     "output_type": "execute_result"
    }
   ],
   "source": [
    "# Find all matches of the patterns containing 'User' followed by a (number)\n",
    "re.findall(r\"User\\d\", \"The winners are: User9, UserN, User8\")"
   ]
  },
  {
   "cell_type": "markdown",
   "id": "cc04ab77",
   "metadata": {},
   "source": [
    "`\\D`: Non-digit"
   ]
  },
  {
   "cell_type": "code",
   "execution_count": 6,
   "id": "75330981",
   "metadata": {},
   "outputs": [
    {
     "data": {
      "text/plain": [
       "['UserN']"
      ]
     },
     "execution_count": 6,
     "metadata": {},
     "output_type": "execute_result"
    }
   ],
   "source": [
    "# Find all matches of the patterns containing 'User' followed by a (non-digit)\n",
    "re.findall(r\"User\\D\", \"The winners are: User9, UserN, User8\")"
   ]
  },
  {
   "cell_type": "markdown",
   "id": "6500948e",
   "metadata": {},
   "source": [
    "`\\w`: Word"
   ]
  },
  {
   "cell_type": "code",
   "execution_count": 7,
   "id": "c51b9228",
   "metadata": {},
   "outputs": [
    {
     "data": {
      "text/plain": [
       "['User9', 'UserN', 'User8']"
      ]
     },
     "execution_count": 7,
     "metadata": {},
     "output_type": "execute_result"
    }
   ],
   "source": [
    "# Find all matches of the patterns containing 'User' followed by a (any digit or normal character)\n",
    "re.findall(r\"User\\w\", \"The winners are: User9, UserN, User8\")"
   ]
  },
  {
   "cell_type": "markdown",
   "id": "22c25aef",
   "metadata": {},
   "source": [
    "`\\W`: Non-word"
   ]
  },
  {
   "cell_type": "code",
   "execution_count": 8,
   "id": "841426e9",
   "metadata": {},
   "outputs": [
    {
     "data": {
      "text/plain": [
       "['$5']"
      ]
     },
     "execution_count": 8,
     "metadata": {},
     "output_type": "execute_result"
    }
   ],
   "source": [
    "# Find the price in a string\n",
    "re.findall(r\"\\W\\d\", \"This skirt is on sale, only $5 today!\")"
   ]
  },
  {
   "cell_type": "markdown",
   "id": "47d83266",
   "metadata": {},
   "source": [
    "`\\s`: Whitespace"
   ]
  },
  {
   "cell_type": "code",
   "execution_count": 9,
   "id": "62800d06",
   "metadata": {},
   "outputs": [
    {
     "data": {
      "text/plain": [
       "['Data Science']"
      ]
     },
     "execution_count": 9,
     "metadata": {},
     "output_type": "execute_result"
    }
   ],
   "source": [
    "# Find the pattern 'Data Science' (space included between both words)\n",
    "re.findall(r\"Data\\sScience\", \"I enjoy learning Data Science\")"
   ]
  },
  {
   "cell_type": "markdown",
   "id": "d551f926",
   "metadata": {},
   "source": [
    "`\\S`: Non-Whitespace"
   ]
  },
  {
   "cell_type": "code",
   "execution_count": 10,
   "id": "ee26ea3c",
   "metadata": {},
   "outputs": [
    {
     "data": {
      "text/plain": [
       "'I really like ice cream'"
      ]
     },
     "execution_count": 10,
     "metadata": {},
     "output_type": "execute_result"
    }
   ],
   "source": [
    "# Find the matches of 'ice' followed by (any non-space character), then followed by 'cream', replacing with 'ice cream'\n",
    "re.sub(r\"ice\\Scream\", \"ice cream\", \"I really like ice-cream\")"
   ]
  },
  {
   "cell_type": "markdown",
   "id": "230c1769",
   "metadata": {},
   "source": [
    "## Example #1: Are they bots?"
   ]
  },
  {
   "cell_type": "code",
   "execution_count": 11,
   "id": "4613091d",
   "metadata": {},
   "outputs": [],
   "source": [
    "sentiment_analysis = '@robot9! @robot4& I have a good feeling that the show isgoing to be amazing! @robot9$ @robot7%'"
   ]
  },
  {
   "cell_type": "markdown",
   "id": "12e1c06e",
   "metadata": {},
   "source": [
    "- Write a regex that matches the user mentions that starts with `@` and follows the pattern, e.g. `@robot3!`."
   ]
  },
  {
   "cell_type": "code",
   "execution_count": 12,
   "id": "6af9847d",
   "metadata": {},
   "outputs": [],
   "source": [
    "# Write the regex\n",
    "# regex = r\"\\W\\w+\\d\\S\"\n",
    "regex = r\"@robot\\d\\W\""
   ]
  },
  {
   "cell_type": "markdown",
   "id": "e8ea83f8",
   "metadata": {},
   "source": [
    "- Find all the matches of the pattern in the `sentiment_analysis` variable."
   ]
  },
  {
   "cell_type": "code",
   "execution_count": 13,
   "id": "e5034aff",
   "metadata": {},
   "outputs": [
    {
     "name": "stdout",
     "output_type": "stream",
     "text": [
      "['@robot9!', '@robot4&', '@robot9$', '@robot7%']\n"
     ]
    }
   ],
   "source": [
    "# Find all matches of regex\n",
    "print(re.findall(regex, sentiment_analysis))"
   ]
  },
  {
   "cell_type": "markdown",
   "id": "e13adf69",
   "metadata": {},
   "source": [
    "## Example #2: Find the numbers"
   ]
  },
  {
   "cell_type": "code",
   "execution_count": 14,
   "id": "b54e412a",
   "metadata": {},
   "outputs": [
    {
     "name": "stdout",
     "output_type": "stream",
     "text": [
      "Unfortunately one of those moments wasn't a giant squid monster. User_mentions:2, likes: 9, number of retweets: 7\n"
     ]
    }
   ],
   "source": [
    "sentiment_analysis = \"Unfortunately one of those moments wasn't a giant squid monster. User_mentions:2, likes: 9, number of retweets: 7\"\n",
    "print(sentiment_analysis)"
   ]
  },
  {
   "cell_type": "markdown",
   "id": "42c833d8",
   "metadata": {},
   "source": [
    "- Write a regex that matches the number of user mentions given as, for example, `User_mentions:9` in sentiment_analysis."
   ]
  },
  {
   "cell_type": "code",
   "execution_count": 15,
   "id": "e73fa210",
   "metadata": {},
   "outputs": [
    {
     "name": "stdout",
     "output_type": "stream",
     "text": [
      "['User_mentions:2']\n"
     ]
    }
   ],
   "source": [
    "# Write a regex to obtain user mentions\n",
    "print(re.findall(r\"User_mentions:\\d\", sentiment_analysis))"
   ]
  },
  {
   "cell_type": "markdown",
   "id": "38f189ed",
   "metadata": {},
   "source": [
    "- Write a regex that matches the number of likes given as, for example, `likes: 5` in `sentiment_analysis`."
   ]
  },
  {
   "cell_type": "code",
   "execution_count": 16,
   "id": "36d33a5d",
   "metadata": {},
   "outputs": [
    {
     "name": "stdout",
     "output_type": "stream",
     "text": [
      "['likes: 9']\n"
     ]
    }
   ],
   "source": [
    "# Write a regex to obtain number of likes\n",
    "print(re.findall(r\"likes:\\s\\d\", sentiment_analysis))"
   ]
  },
  {
   "cell_type": "markdown",
   "id": "44053c1f",
   "metadata": {},
   "source": [
    "- Write a regex that matches the number of retweets given as, for example, `number of retweets: 4` in `sentiment_analysis`."
   ]
  },
  {
   "cell_type": "code",
   "execution_count": 17,
   "id": "8c18d5a3",
   "metadata": {},
   "outputs": [
    {
     "name": "stdout",
     "output_type": "stream",
     "text": [
      "['number of retweets: 7']\n"
     ]
    }
   ],
   "source": [
    "# Write a regex to obtain number of retweets\n",
    "print(re.findall(r\"number\\sof\\sretweets:\\s\\d\", sentiment_analysis))"
   ]
  },
  {
   "cell_type": "markdown",
   "id": "6fa37c6e",
   "metadata": {},
   "source": [
    "## Example #3: Match and split"
   ]
  },
  {
   "cell_type": "code",
   "execution_count": 18,
   "id": "0d031bbb",
   "metadata": {},
   "outputs": [],
   "source": [
    "sentiment_analysis = 'He#newHis%newTin love with$newPscrappy. #8break%He is&newYmissing him@newLalready'"
   ]
  },
  {
   "cell_type": "markdown",
   "id": "bf4aad7a",
   "metadata": {},
   "source": [
    "- Write a regex that matches the pattern separating the sentences in `sentiment_analysis`, e.g. `&4break!`."
   ]
  },
  {
   "cell_type": "code",
   "execution_count": 19,
   "id": "464614c2",
   "metadata": {},
   "outputs": [
    {
     "name": "stdout",
     "output_type": "stream",
     "text": [
      "['#8break%']\n"
     ]
    }
   ],
   "source": [
    "# Write a regex to match pattern separating sentences\n",
    "regex_sentence = r\"\\W\\dbreak\\W\"\n",
    "print(re.findall(regex_sentence, sentiment_analysis))"
   ]
  },
  {
   "cell_type": "markdown",
   "id": "55ac4710",
   "metadata": {},
   "source": [
    "- Replace `regex_sentence` with a space `\" \"` in the variable `sentiment_analysis`. Assign it to `sentiment_sub`."
   ]
  },
  {
   "cell_type": "code",
   "execution_count": 20,
   "id": "a864c9ba",
   "metadata": {},
   "outputs": [
    {
     "name": "stdout",
     "output_type": "stream",
     "text": [
      "He#newHis%newTin love with$newPscrappy.  He is&newYmissing him@newLalready\n"
     ]
    }
   ],
   "source": [
    "# Replace the regex_sentence with a space\n",
    "sentiment_sub = re.sub(regex_sentence, \" \", sentiment_analysis)\n",
    "print(sentiment_sub)"
   ]
  },
  {
   "cell_type": "markdown",
   "id": "0c1383bc",
   "metadata": {},
   "source": [
    "- Write a regex that matches the pattern separating the words in `sentiment_analysis`, e.g. `#newH`."
   ]
  },
  {
   "cell_type": "code",
   "execution_count": 21,
   "id": "71a30922",
   "metadata": {},
   "outputs": [],
   "source": [
    "# Write a regex to match pattern separating words\n",
    "regex_words = r\"\\Wnew\\w\""
   ]
  },
  {
   "cell_type": "markdown",
   "id": "53112abf",
   "metadata": {},
   "source": [
    "- Replace `regex_words` with a space in the variable `sentiment_sub`. Assign it to `sentiment_final` and print out the result."
   ]
  },
  {
   "cell_type": "code",
   "execution_count": 22,
   "id": "683bbd4b",
   "metadata": {},
   "outputs": [
    {
     "name": "stdout",
     "output_type": "stream",
     "text": [
      "He is in love with scrappy.  He is missing him already\n"
     ]
    }
   ],
   "source": [
    "# Replace the regex_words and print the result\n",
    "sentiment_final = re.sub(regex_words, \" \", sentiment_sub)\n",
    "print(sentiment_final)"
   ]
  },
  {
   "cell_type": "markdown",
   "id": "df7cb6e2",
   "metadata": {},
   "source": [
    "# 2. Repetitions"
   ]
  },
  {
   "cell_type": "markdown",
   "id": "8485668e",
   "metadata": {},
   "source": [
    "### Quantifiers"
   ]
  },
  {
   "cell_type": "code",
   "execution_count": 23,
   "id": "d6afa7a8",
   "metadata": {},
   "outputs": [
    {
     "data": {
      "text/plain": [
       "<re.Match object; span=(0, 12), match='password1234'>"
      ]
     },
     "execution_count": 23,
     "metadata": {},
     "output_type": "execute_result"
    }
   ],
   "source": [
    "import re\n",
    "# We specify '\\w' and '\\d' are repeated 8 and 4 times, respectively\n",
    "password = \"password1234\"\n",
    "re.search(r\"\\w{8}\\d{4}\", password)"
   ]
  },
  {
   "cell_type": "markdown",
   "id": "710f21c3",
   "metadata": {},
   "source": [
    "### A character appears Once or more times: `+`"
   ]
  },
  {
   "cell_type": "code",
   "execution_count": 24,
   "id": "b7b79c8b",
   "metadata": {},
   "outputs": [
    {
     "data": {
      "text/plain": [
       "['4-3', '10-04']"
      ]
     },
     "execution_count": 24,
     "metadata": {},
     "output_type": "execute_result"
    }
   ],
   "source": [
    "# Geting the matches of dates\n",
    "text = \"Date of start: 4-3. Date of registration: 10-04.\"\n",
    "re.findall(r\"\\d+-\\d+\", text)"
   ]
  },
  {
   "cell_type": "markdown",
   "id": "f3ec287d",
   "metadata": {},
   "source": [
    "### A character appears Zero times or more times: `*`"
   ]
  },
  {
   "cell_type": "code",
   "execution_count": 25,
   "id": "9179deb0",
   "metadata": {},
   "outputs": [
    {
     "data": {
      "text/plain": [
       "['@ameli!a', '@joh&&n', '@mary90']"
      ]
     },
     "execution_count": 25,
     "metadata": {},
     "output_type": "execute_result"
    }
   ],
   "source": [
    "# We want to find all mentions of users starting with '@'\n",
    "my_string = \"The concert was amazing! @ameli!a @joh&&n @mary90\"\n",
    "re.findall(r\"@\\w+\\W*\\w+\", my_string)"
   ]
  },
  {
   "cell_type": "markdown",
   "id": "dae1cef1",
   "metadata": {},
   "source": [
    "### A character appears Zero times or just \"once\": `?`"
   ]
  },
  {
   "cell_type": "code",
   "execution_count": 26,
   "id": "c7ada798",
   "metadata": {},
   "outputs": [
    {
     "data": {
      "text/plain": [
       "['color', 'colour']"
      ]
     },
     "execution_count": 26,
     "metadata": {},
     "output_type": "execute_result"
    }
   ],
   "source": [
    "# Finding the word color, regarding its spelling variations\n",
    "text = \"The color of this image is amazing. However, the colour blue could be brighter.\"\n",
    "re.findall(r\"colou?r\", text) # colour is more probably to appear just one time"
   ]
  },
  {
   "cell_type": "markdown",
   "id": "6ca5c4ea",
   "metadata": {},
   "source": [
    "### n times at least, m times at most : {n, m}"
   ]
  },
  {
   "cell_type": "code",
   "execution_count": 27,
   "id": "32e6d431",
   "metadata": {},
   "outputs": [
    {
     "data": {
      "text/plain": [
       "['1-966-847-3131', '54-908-42-42424']"
      ]
     },
     "execution_count": 27,
     "metadata": {},
     "output_type": "execute_result"
    }
   ],
   "source": [
    "# Find all the matches for a phone number\n",
    "phone_number = \"John: 1-966-847-3131 Michelle: 54-908-42-42424\"\n",
    "re.findall(r\"\\d{1,2}-\\d{3}-\\d{2,3}-\\d{4,}\", phone_number)"
   ]
  },
  {
   "cell_type": "markdown",
   "id": "2727e452",
   "metadata": {},
   "source": [
    "### Reminder: the quantifier applies only to the character inmediately to the left\n",
    "`r\"apple+\"` : `+` applies to e and not to apple"
   ]
  },
  {
   "cell_type": "markdown",
   "id": "80ae09ac",
   "metadata": {},
   "source": [
    "## Example #1: Everything clean"
   ]
  },
  {
   "cell_type": "code",
   "execution_count": 28,
   "id": "2a9e51ab",
   "metadata": {},
   "outputs": [],
   "source": [
    "import pandas as pd\n",
    "sentiment_analysis = pd.read_csv('../data/short_tweets.csv')\n",
    "sentiment_analysis = sentiment_analysis.iloc[545:548]\n",
    "sentiment_analysis = sentiment_analysis[\"text\"]"
   ]
  },
  {
   "cell_type": "code",
   "execution_count": 29,
   "id": "d2845cf6",
   "metadata": {},
   "outputs": [
    {
     "data": {
      "text/plain": [
       "545    Boredd. Colddd @blueKnight39 Internet keeps st...\n",
       "546    I had a horrible nightmare last night @anitaLo...\n",
       "547    im lonely  keep me company @YourBestCompany! @...\n",
       "Name: text, dtype: object"
      ]
     },
     "execution_count": 29,
     "metadata": {},
     "output_type": "execute_result"
    }
   ],
   "source": [
    "sentiment_analysis"
   ]
  },
  {
   "cell_type": "markdown",
   "id": "2438cdd2",
   "metadata": {},
   "source": [
    "- Write a regex to find all the matches of `http` links appearing in each `tweet` in `sentiment_analysis`. Print out the result."
   ]
  },
  {
   "cell_type": "code",
   "execution_count": 30,
   "id": "6f5606a9",
   "metadata": {},
   "outputs": [
    {
     "name": "stdout",
     "output_type": "stream",
     "text": [
      "['https://www.tellyourstory.com']\n",
      "[]\n",
      "['https://radio.foxnews.com']\n"
     ]
    }
   ],
   "source": [
    "# Import re module\n",
    "import re\n",
    "\n",
    "for tweet in sentiment_analysis:\n",
    "\t# Write regex to match http links and print out result\n",
    "\tprint(re.findall(r\"http\\S+\", tweet))"
   ]
  },
  {
   "cell_type": "markdown",
   "id": "7b917209",
   "metadata": {},
   "source": [
    "- Write a regex to find all the matches of user mentions appearing in each `tweet` in `sentiment_analysis`. Print out the result."
   ]
  },
  {
   "cell_type": "code",
   "execution_count": 31,
   "id": "130d247d",
   "metadata": {},
   "outputs": [
    {
     "name": "stdout",
     "output_type": "stream",
     "text": [
      "['@blueKnight39']\n",
      "['@anitaLopez98', '@MyredHat31']\n",
      "['@YourBestCompany', '@foxRadio']\n"
     ]
    }
   ],
   "source": [
    "for tweet in sentiment_analysis:\n",
    "    # Write regex to match user mentions and print out result\n",
    "\tprint(re.findall(r\"@\\w+\", tweet))"
   ]
  },
  {
   "cell_type": "markdown",
   "id": "1eb09f56",
   "metadata": {},
   "source": [
    "## Example #2: Some time ago"
   ]
  },
  {
   "cell_type": "code",
   "execution_count": 32,
   "id": "ca045ccf",
   "metadata": {},
   "outputs": [
    {
     "data": {
      "text/plain": [
       "232    I would like to apologize for the repeated Vid...\n",
       "233    @zaydia but i cant figure out how to get there...\n",
       "234    FML: So much for seniority, bc of technologica...\n",
       "Name: text, dtype: object"
      ]
     },
     "execution_count": 32,
     "metadata": {},
     "output_type": "execute_result"
    }
   ],
   "source": [
    "sentiment_analysis = pd.read_csv('../data/short_tweets.csv')\n",
    "sentiment_analysis = sentiment_analysis.iloc[232:235]\n",
    "sentiment_analysis = sentiment_analysis[\"text\"]\n",
    "sentiment_analysis"
   ]
  },
  {
   "cell_type": "markdown",
   "id": "5f7767c8",
   "metadata": {},
   "source": [
    "- Complete the for-loop with a regex that finds all dates in a format similar to `27 minutes ago` or `4 hours ago`."
   ]
  },
  {
   "cell_type": "code",
   "execution_count": 33,
   "id": "861b8147",
   "metadata": {},
   "outputs": [
    {
     "name": "stdout",
     "output_type": "stream",
     "text": [
      "['32 minutes ago']\n",
      "[]\n",
      "[]\n"
     ]
    }
   ],
   "source": [
    "# Complete the for loop with a regex to find dates\n",
    "for date in sentiment_analysis:\n",
    "\tprint(re.findall(r\"\\d{1,2}\\s\\w+\\sago\", date))"
   ]
  },
  {
   "cell_type": "markdown",
   "id": "4d35b157",
   "metadata": {},
   "source": [
    "- Complete the for-loop with a regex that finds all dates in a format similar to `23rd june 2018`."
   ]
  },
  {
   "cell_type": "code",
   "execution_count": 34,
   "id": "d8552c15",
   "metadata": {},
   "outputs": [
    {
     "name": "stdout",
     "output_type": "stream",
     "text": [
      "[]\n",
      "['1st May 2019']\n",
      "['23rd June 2018']\n"
     ]
    }
   ],
   "source": [
    "# Complete the for loop with a regex to find dates\n",
    "for date in sentiment_analysis:\n",
    "\tprint(re.findall(r\"\\d{1,2}\\w+\\s\\w+\\s\\d{4}\", date))"
   ]
  },
  {
   "cell_type": "markdown",
   "id": "5f964fa4",
   "metadata": {},
   "source": [
    "- Complete the for-loop with a regex that finds all dates in a format similar to `1st september 2019 17:25`."
   ]
  },
  {
   "cell_type": "code",
   "execution_count": 35,
   "id": "cf9faf08",
   "metadata": {},
   "outputs": [
    {
     "name": "stdout",
     "output_type": "stream",
     "text": [
      "[]\n",
      "[]\n",
      "['23rd June 2018 17:54']\n"
     ]
    }
   ],
   "source": [
    "# Complete the for loop with a regex to find dates\n",
    "for date in sentiment_analysis:\n",
    "\tprint(re.findall(r\"\\d{1,2}\\w+\\s\\w+\\s\\d{4}\\s\\d{1,2}:\\d{2}\", date))    "
   ]
  },
  {
   "cell_type": "markdown",
   "id": "b0188fb0",
   "metadata": {},
   "source": [
    "## Example #3: Getting tokens"
   ]
  },
  {
   "cell_type": "code",
   "execution_count": 36,
   "id": "624595aa",
   "metadata": {},
   "outputs": [],
   "source": [
    "sentiment_analysis = 'ITS NOT ENOUGH TO SAY THAT IMISS U #MissYou #SoMuch #Friendship #Forever'"
   ]
  },
  {
   "cell_type": "markdown",
   "id": "ea439501",
   "metadata": {},
   "source": [
    "- Write a regex that matches the described hashtag pattern. Assign it to the `regex` variable."
   ]
  },
  {
   "cell_type": "code",
   "execution_count": 37,
   "id": "bf1cb957",
   "metadata": {},
   "outputs": [],
   "source": [
    "# Write a regex matching the hashtag pattern\n",
    "regex = r\"#\\w+\""
   ]
  },
  {
   "cell_type": "markdown",
   "id": "f1f10740",
   "metadata": {},
   "source": [
    "- Replace all the matches of the regex with an empty string `\"\"`. Assign it to `no_hashtag` variable."
   ]
  },
  {
   "cell_type": "code",
   "execution_count": 38,
   "id": "37b6eb42",
   "metadata": {},
   "outputs": [],
   "source": [
    "# Replace the regex by an empty string\n",
    "no_hashtag = re.sub(regex, \"\", sentiment_analysis)"
   ]
  },
  {
   "cell_type": "markdown",
   "id": "7905fe28",
   "metadata": {},
   "source": [
    "- Split the text in the `no_hashtag` variable at every match of one or more consecutive whitespace."
   ]
  },
  {
   "cell_type": "code",
   "execution_count": 39,
   "id": "5d71762a",
   "metadata": {},
   "outputs": [
    {
     "name": "stdout",
     "output_type": "stream",
     "text": [
      "['ITS', 'NOT', 'ENOUGH', 'TO', 'SAY', 'THAT', 'IMISS', 'U', '']\n"
     ]
    }
   ],
   "source": [
    "# Get tokens by splitting text\n",
    "print(re.split(r\"\\s+\", no_hashtag))"
   ]
  },
  {
   "cell_type": "markdown",
   "id": "48083430",
   "metadata": {},
   "source": [
    "# 3. Regex metacharacters\n",
    "- `re.search(r\"regex\",string)`\n",
    "- `re.match(r\"regex\",string)`"
   ]
  },
  {
   "cell_type": "code",
   "execution_count": 42,
   "id": "9bc4f5ea",
   "metadata": {},
   "outputs": [
    {
     "data": {
      "text/plain": [
       "<re.Match object; span=(0, 4), match='4506'>"
      ]
     },
     "execution_count": 42,
     "metadata": {},
     "output_type": "execute_result"
    }
   ],
   "source": [
    "# Finding a digit appearing four times (.search)\n",
    "re.search(r\"\\d{4}\",\"4506 people attend the show\")"
   ]
  },
  {
   "cell_type": "code",
   "execution_count": 43,
   "id": "7b7de15b",
   "metadata": {},
   "outputs": [
    {
     "data": {
      "text/plain": [
       "<re.Match object; span=(0, 4), match='4506'>"
      ]
     },
     "execution_count": 43,
     "metadata": {},
     "output_type": "execute_result"
    }
   ],
   "source": [
    "# Finding a digit appearing four times (.match)\n",
    "re.match(r\"\\d{4}\",\"4506 people attend the show\")"
   ]
  },
  {
   "cell_type": "markdown",
   "id": "a452fdd5",
   "metadata": {},
   "source": [
    "The difference is that `.match` is anchored at the beginning of the string."
   ]
  },
  {
   "cell_type": "code",
   "execution_count": 48,
   "id": "c25099e1",
   "metadata": {},
   "outputs": [
    {
     "name": "stdout",
     "output_type": "stream",
     "text": [
      "<re.Match object; span=(17, 18), match='3'>\n"
     ]
    }
   ],
   "source": [
    "# Finding a match for a digit with .search()\n",
    "print(re.search(r\"\\d+\",\"Yesterday, I saw 3 shows\"))"
   ]
  },
  {
   "cell_type": "code",
   "execution_count": 47,
   "id": "c0ef61a2",
   "metadata": {},
   "outputs": [
    {
     "name": "stdout",
     "output_type": "stream",
     "text": [
      "None\n"
     ]
    }
   ],
   "source": [
    "# Finding a match for a digit with .match()\n",
    "print(re.match(r\"\\d+\",\"Yesterday, I saw 3 shows\"))"
   ]
  },
  {
   "cell_type": "markdown",
   "id": "5395e6f7",
   "metadata": {},
   "source": [
    "What occured with `.match()` was because the first characters do not match the regex."
   ]
  },
  {
   "cell_type": "markdown",
   "id": "dc36f4f9",
   "metadata": {},
   "source": [
    "### Match any character (except newline): `.`"
   ]
  },
  {
   "cell_type": "code",
   "execution_count": 49,
   "id": "bb2856ec",
   "metadata": {},
   "outputs": [
    {
     "data": {
      "text/plain": [
       "['www.amazingpics.com']"
      ]
     },
     "execution_count": 49,
     "metadata": {},
     "output_type": "execute_result"
    }
   ],
   "source": [
    "# we need to match links in the string\n",
    "my_links = \"Just check out this link: www.amazingpics.com. It has amazing photos!\"\n",
    "re.findall(r\"www.+com\", my_links)"
   ]
  },
  {
   "cell_type": "markdown",
   "id": "3ce372ed",
   "metadata": {},
   "source": [
    "### Start of the string: `^`"
   ]
  },
  {
   "cell_type": "code",
   "execution_count": 50,
   "id": "3d8bffe6",
   "metadata": {},
   "outputs": [
    {
     "data": {
      "text/plain": [
       "['the 80s', 'the 90s']"
      ]
     },
     "execution_count": 50,
     "metadata": {},
     "output_type": "execute_result"
    }
   ],
   "source": [
    "# find the pattern starting with t, h, e, whitespace, two digits and ending with s.\n",
    "my_string = \"the 80s music was much better that the 90s\"\n",
    "re.findall(r\"the\\s\\d+s\", my_string)"
   ]
  },
  {
   "cell_type": "code",
   "execution_count": 51,
   "id": "534f4ee2",
   "metadata": {},
   "outputs": [
    {
     "data": {
      "text/plain": [
       "['the 80s']"
      ]
     },
     "execution_count": 51,
     "metadata": {},
     "output_type": "execute_result"
    }
   ],
   "source": [
    "# Start of the string: ^\n",
    "re.findall(r\"^the\\s\\d+s\", my_string)"
   ]
  },
  {
   "cell_type": "markdown",
   "id": "864d591d",
   "metadata": {},
   "source": [
    "### End of the string: `$`"
   ]
  },
  {
   "cell_type": "code",
   "execution_count": 52,
   "id": "08a554a8",
   "metadata": {},
   "outputs": [
    {
     "data": {
      "text/plain": [
       "['the 90s']"
      ]
     },
     "execution_count": 52,
     "metadata": {},
     "output_type": "execute_result"
    }
   ],
   "source": [
    "re.findall(r\"the\\s\\d+s$\", my_string)"
   ]
  },
  {
   "cell_type": "markdown",
   "id": "4d8dc512",
   "metadata": {},
   "source": [
    "### Escape special characters: `\\`"
   ]
  },
  {
   "cell_type": "code",
   "execution_count": 53,
   "id": "a0305cbe",
   "metadata": {},
   "outputs": [
    {
     "name": "stdout",
     "output_type": "stream",
     "text": [
      "['', 'lov', 'th', 'musi', 'o', 'Mr.Go', 'However', 'th', 'soun', 'wa', 'to', 'loud.']\n"
     ]
    }
   ],
   "source": [
    "# We want to split the string by dot whitespace.\n",
    "my_string = \"I love the music of Mr.Go. However, the sound was too loud.\"\n",
    "print(re.split(r\".\\s\", my_string))"
   ]
  },
  {
   "cell_type": "markdown",
   "id": "c89c4027",
   "metadata": {},
   "source": [
    "That was not what we expected. **Instead:**"
   ]
  },
  {
   "cell_type": "code",
   "execution_count": 54,
   "id": "e6c43307",
   "metadata": {},
   "outputs": [
    {
     "name": "stdout",
     "output_type": "stream",
     "text": [
      "['I love the music of Mr.Go', 'However, the sound was too loud.']\n"
     ]
    }
   ],
   "source": [
    "# Escape special characters (the right one): \\\n",
    "my_string = \"I love the music of Mr.Go. However, the sound was too loud.\"\n",
    "print(re.split(r\"\\.\\s\", my_string))"
   ]
  },
  {
   "cell_type": "markdown",
   "id": "a7790ff2",
   "metadata": {},
   "source": [
    "### OR operator with character: `|`"
   ]
  },
  {
   "cell_type": "code",
   "execution_count": 56,
   "id": "c919e576",
   "metadata": {},
   "outputs": [
    {
     "data": {
      "text/plain": [
       "['Elephant', 'elephant']"
      ]
     },
     "execution_count": 56,
     "metadata": {},
     "output_type": "execute_result"
    }
   ],
   "source": [
    "# we want to match the word elephant\n",
    "my_string = \"Elephants are the world's largest land animal! I would love to see an elephant one day\"\n",
    "re.findall(r\"Elephant|elephant\", my_string)"
   ]
  },
  {
   "cell_type": "markdown",
   "id": "0e5aeb98",
   "metadata": {},
   "source": [
    "### OR operator - Set of characters: `[ ]`"
   ]
  },
  {
   "cell_type": "code",
   "execution_count": 58,
   "id": "4780ee92",
   "metadata": {},
   "outputs": [
    {
     "data": {
      "text/plain": [
       "['MaryJohn2', 'Clary3']"
      ]
     },
     "execution_count": 58,
     "metadata": {},
     "output_type": "execute_result"
    }
   ],
   "source": [
    "# We want to find a pattern that contains lowercase or uppercase letter followed by a digit\n",
    "my_string = \"Yesterday I spent my afternoon with my friends: MaryJohn2 Clary3\"\n",
    "re.findall(r\"[a-zA-Z]+\\d\", my_string)"
   ]
  },
  {
   "cell_type": "code",
   "execution_count": 59,
   "id": "3e8931e0",
   "metadata": {},
   "outputs": [
    {
     "data": {
      "text/plain": [
       "'My name is John Smith. I live in London.'"
      ]
     },
     "execution_count": 59,
     "metadata": {},
     "output_type": "execute_result"
    }
   ],
   "source": [
    "# We want to replace the non-word characters by whitespace\n",
    "my_string = \"My&name&is#John Smith. I%live$in#London.\"\n",
    "\n",
    "# We specify optional characters inside the []\n",
    "re.sub(r\"[#$%&]\",\" \", my_string)"
   ]
  },
  {
   "cell_type": "markdown",
   "id": "31327dab",
   "metadata": {},
   "source": [
    "### OR operator - Set of characters: `[ ]` with `^`\n",
    "- **`^`** transforms the expression to negative"
   ]
  },
  {
   "cell_type": "code",
   "execution_count": 60,
   "id": "08847cb8",
   "metadata": {},
   "outputs": [
    {
     "data": {
      "text/plain": [
       "['www.hola.com']"
      ]
     },
     "execution_count": 60,
     "metadata": {},
     "output_type": "execute_result"
    }
   ],
   "source": [
    "# the ^ specifies we want the links that do not contain any number\n",
    "my_links = \"Bad website: www.99.com. Favorite site: www.hola.com\"\n",
    "re.findall(r\"www[^0-9]+com\", my_links)"
   ]
  },
  {
   "cell_type": "markdown",
   "id": "bf27a85b",
   "metadata": {},
   "source": [
    "## Example #1: Finding files"
   ]
  },
  {
   "cell_type": "markdown",
   "id": "573e30fd",
   "metadata": {},
   "source": [
    "You are not satisfied with your tweets dataset cleaning. There are still extra strings that do not provide any sentiment. Among them are strings that refer to text file names.\n",
    "\n",
    "You also find a way to detect them:\n",
    "\n",
    "- They appear at the start of the string.\n",
    "- They always start with a sequence of 2 or 3 upper or lowercase vowels (a e i o u).\n",
    "- They always finish with the `txt` ending.\n",
    "\n",
    "You are not sure if you should remove them directly. So you write a script to find and store them in a separate dataset `sentiment_analysis`.\n",
    "\n",
    "You write down some metacharacters to help you: `^` anchor to beginning, `.` any character."
   ]
  },
  {
   "cell_type": "code",
   "execution_count": 62,
   "id": "4789180f",
   "metadata": {},
   "outputs": [
    {
     "data": {
      "text/plain": [
       "780    AIshadowhunters.txt aaaaand back to my literat...\n",
       "781    ouMYTAXES.txt I am worried that I won't get my...\n",
       "Name: text, dtype: object"
      ]
     },
     "execution_count": 62,
     "metadata": {},
     "output_type": "execute_result"
    }
   ],
   "source": [
    "import pandas as pd\n",
    "import re\n",
    "sentiment_analysis = pd.read_csv('../data/short_tweets.csv')\n",
    "sentiment_analysis = sentiment_analysis.iloc[780:782]\n",
    "sentiment_analysis = sentiment_analysis[\"text\"]\n",
    "sentiment_analysis"
   ]
  },
  {
   "cell_type": "markdown",
   "id": "772fd045",
   "metadata": {},
   "source": [
    "- Write a regex that matches the pattern of the text file names, e.g. `aemyfile.txt`."
   ]
  },
  {
   "cell_type": "code",
   "execution_count": 73,
   "id": "32185771",
   "metadata": {},
   "outputs": [],
   "source": [
    "# Write a regex to match text file name\n",
    "regex = r\"^[aeiouAEIOU]{2,3}.+txt\""
   ]
  },
  {
   "cell_type": "markdown",
   "id": "b9461df9",
   "metadata": {},
   "source": [
    "- Find all matches of the regex in the elements of `sentiment_analysis`. Print out the result."
   ]
  },
  {
   "cell_type": "code",
   "execution_count": 74,
   "id": "ca39b954",
   "metadata": {},
   "outputs": [
    {
     "name": "stdout",
     "output_type": "stream",
     "text": [
      "['AIshadowhunters.txt']\n",
      "['ouMYTAXES.txt']\n"
     ]
    }
   ],
   "source": [
    "for text in sentiment_analysis:\n",
    "\t# Find all matches of the regex\n",
    "\tprint(re.findall(regex, text))"
   ]
  },
  {
   "cell_type": "markdown",
   "id": "e0506fbb",
   "metadata": {},
   "source": [
    "- Replace all matches of the regex with an empty string `\"\"`. Print out the result."
   ]
  },
  {
   "cell_type": "code",
   "execution_count": 75,
   "id": "713c293a",
   "metadata": {},
   "outputs": [
    {
     "name": "stdout",
     "output_type": "stream",
     "text": [
      " I am worried that I won't get my $900 even though I paid tax last year\n"
     ]
    }
   ],
   "source": [
    "# Replace all matches with empty string\n",
    "print(re.sub(regex, \"\", text))"
   ]
  },
  {
   "cell_type": "markdown",
   "id": "cc5376b1",
   "metadata": {},
   "source": [
    "## Example #2: Give me your email"
   ]
  },
  {
   "cell_type": "markdown",
   "id": "18dd41cb",
   "metadata": {},
   "source": [
    "A colleague has asked for your help! When a user signs up on the company website, they must provide a valid email address.\n",
    "The company puts some rules in place to verify that the given email address is valid:\n",
    "\n",
    "- The first part can contain:\n",
    "    - Upper `A-Z` or lowercase letters `a-z`\n",
    "    - Numbers\n",
    "    - Characters: `!`, `#`, `%`, `&`, `*`, `$`, `.`\n",
    "- Must have `@`\n",
    "- Domain:\n",
    "    - Can contain any word characters\n",
    "    - But only `.com` ending is allowed\n",
    "\n",
    "The project consists of writing a script that checks if the email address follow the correct pattern. Your colleague gave you a list of email addresses as examples to test."
   ]
  },
  {
   "cell_type": "code",
   "execution_count": 76,
   "id": "5a2d22ad",
   "metadata": {},
   "outputs": [],
   "source": [
    "emails = ['n.john.smith@gmail.com', '87victory@hotmail.com', '!#mary-=@msca.net']"
   ]
  },
  {
   "cell_type": "markdown",
   "id": "837e2292",
   "metadata": {},
   "source": [
    "- Write a regular expression to match valid email addresses as described."
   ]
  },
  {
   "cell_type": "code",
   "execution_count": 86,
   "id": "d1ef42e5",
   "metadata": {},
   "outputs": [],
   "source": [
    "# Write a regex to match a valid email address\n",
    "regex = r\"[A-Za-z0-9!#%&*\\$\\.]+@\\w+\\.com\""
   ]
  },
  {
   "cell_type": "markdown",
   "id": "d2b52439",
   "metadata": {},
   "source": [
    "- Match the regex to the elements contained in `emails`.\n",
    "- Print out the message indicating if it is a valid email or not, complete `.format()` statement."
   ]
  },
  {
   "cell_type": "code",
   "execution_count": 87,
   "id": "dd427205",
   "metadata": {},
   "outputs": [
    {
     "name": "stdout",
     "output_type": "stream",
     "text": [
      "The email n.john.smith@gmail.com is a valid email\n",
      "The email 87victory@hotmail.com is a valid email\n",
      "The email !#mary-=@msca.net is invalid\n"
     ]
    }
   ],
   "source": [
    "for example in emails:\n",
    "  \t# Match the regex to the string\n",
    "    if re.match(regex, example):\n",
    "        # Complete the format method to print out the result\n",
    "      \tprint(\"The email {email_example} is a valid email\".format(email_example=example))\n",
    "    else:\n",
    "      \tprint(\"The email {email_example} is invalid\".format(email_example=example))"
   ]
  },
  {
   "cell_type": "markdown",
   "id": "674c8a2e",
   "metadata": {},
   "source": [
    "## Example #3: Invalid password"
   ]
  },
  {
   "cell_type": "markdown",
   "id": "c4b5037f",
   "metadata": {},
   "source": [
    "The second part of the website project is to write a script that validates the password entered by the user. The company also puts some rules in order to verify valid passwords:\n",
    "\n",
    "- It can contain lowercase `a-z` and uppercase letters `A-Z`\n",
    "- It can contain numbers\n",
    "- It can contain the symbols: `*`, `#`, `$`, `%`, `!`, `&`, `.`\n",
    "- It must be at least 8 characters long but not more than 20\n",
    "\n",
    "Your colleague also gave you a list of passwords as examples to test."
   ]
  },
  {
   "cell_type": "code",
   "execution_count": 88,
   "id": "a967e2aa",
   "metadata": {},
   "outputs": [],
   "source": [
    "passwords = ['Apple34!rose', 'My87hou#4$', 'abc123']"
   ]
  },
  {
   "cell_type": "markdown",
   "id": "d4daae9d",
   "metadata": {},
   "source": [
    "- Write a regular expression to check if the passwords are valid according to the description."
   ]
  },
  {
   "cell_type": "code",
   "execution_count": 89,
   "id": "c11b1916",
   "metadata": {},
   "outputs": [],
   "source": [
    "# Write a regex to check if the password is valid\n",
    "regex = r\"[a-zA-Z0-9*#$%!&.]{8,20}\""
   ]
  },
  {
   "cell_type": "markdown",
   "id": "e95d0176",
   "metadata": {},
   "source": [
    "- Search the elements in the `passwords` list to find out if they are valid passwords.\n",
    "\n",
    "- Print out the message indicating if it is a valid password or not, complete `.format()` statement."
   ]
  },
  {
   "cell_type": "code",
   "execution_count": 90,
   "id": "e1c60b74",
   "metadata": {},
   "outputs": [
    {
     "name": "stdout",
     "output_type": "stream",
     "text": [
      "The password Apple34!rose is a valid password\n",
      "The password My87hou#4$ is a valid password\n",
      "The password abc123 is invalid\n"
     ]
    }
   ],
   "source": [
    "for example in passwords:\n",
    "  \t# Scan the strings to find a match\n",
    "    if re.findall(regex, example):\n",
    "        # Complete the format method to print out the result\n",
    "      \tprint(\"The password {pass_example} is a valid password\".format(pass_example=example))\n",
    "    else:\n",
    "      \tprint(\"The password {pass_example} is invalid\".format(pass_example=example))   "
   ]
  },
  {
   "cell_type": "markdown",
   "id": "f5332c98",
   "metadata": {},
   "source": [
    "# 4. Greedy vs. non-greedy matching"
   ]
  },
  {
   "cell_type": "markdown",
   "id": "bb58396b",
   "metadata": {},
   "source": [
    "Standard quantiers are greedy by default: `*` , `+` , `?` , `{num, num}`"
   ]
  },
  {
   "cell_type": "markdown",
   "id": "420c3036",
   "metadata": {},
   "source": [
    "### Greedy matching: \n",
    "- Match as many characters as possible\n",
    "- Return the longest match"
   ]
  },
  {
   "cell_type": "code",
   "execution_count": 1,
   "id": "9e9fed23",
   "metadata": {},
   "outputs": [
    {
     "data": {
      "text/plain": [
       "<re.Match object; span=(0, 5), match='12345'>"
      ]
     },
     "execution_count": 1,
     "metadata": {},
     "output_type": "execute_result"
    }
   ],
   "source": [
    "# We want to find a pattern that has one or more digits\n",
    "import re\n",
    "re.match(r\"\\d+\",\"12345bcada\")\n",
    "\n",
    "# It will start by matching the first digit found '1' and will stop when no other digit can be matched"
   ]
  },
  {
   "cell_type": "markdown",
   "id": "06180e85",
   "metadata": {},
   "source": [
    "- Backtracks when too many character matched\n",
    "- Gives up characters one at a time"
   ]
  },
  {
   "cell_type": "code",
   "execution_count": 2,
   "id": "6440e62f",
   "metadata": {},
   "outputs": [
    {
     "data": {
      "text/plain": [
       "<re.Match object; span=(0, 6), match='xhello'>"
      ]
     },
     "execution_count": 2,
     "metadata": {},
     "output_type": "execute_result"
    }
   ],
   "source": [
    "# .* to find anything, zero or more times, followed by the letters \"h\" \"e\" \"l\" \"l\" \"o\". \n",
    "import re\n",
    "re.match(r\".*hello\",\"xhelloxxxxxx\")\n",
    "\n",
    "# We can see here that it returns the pattern 'xhello'."
   ]
  },
  {
   "cell_type": "markdown",
   "id": "82e7c37f",
   "metadata": {},
   "source": [
    "### Non-greedy matching (or, lazy operators):\n",
    "- **Lazy:** match as few characters as needed\n",
    "- Returns the shortest match\n",
    "- Append `?` to greedy quantiers"
   ]
  },
  {
   "cell_type": "code",
   "execution_count": 3,
   "id": "0630d5ff",
   "metadata": {},
   "outputs": [
    {
     "data": {
      "text/plain": [
       "<re.Match object; span=(0, 1), match='1'>"
      ]
     },
     "execution_count": 3,
     "metadata": {},
     "output_type": "execute_result"
    }
   ],
   "source": [
    "# The same code but just returning the pattern '1' (the first digit)\n",
    "import re\n",
    "re.match(r\"\\d+?\",\"12345bcada\")"
   ]
  },
  {
   "cell_type": "markdown",
   "id": "e4aa0075",
   "metadata": {},
   "source": [
    "- Backtracks when too few characters matched\n",
    "- Expands characters one a time"
   ]
  },
  {
   "cell_type": "code",
   "execution_count": 4,
   "id": "8cc5f225",
   "metadata": {},
   "outputs": [
    {
     "data": {
      "text/plain": [
       "<re.Match object; span=(0, 6), match='xhello'>"
      ]
     },
     "execution_count": 4,
     "metadata": {},
     "output_type": "execute_result"
    }
   ],
   "source": [
    "# The same code but just match a little as possible\n",
    "import re\n",
    "re.match(r\".*?hello\",\"xhelloxxxxxx\")"
   ]
  },
  {
   "cell_type": "markdown",
   "id": "82d7c7ae",
   "metadata": {},
   "source": [
    "## Example #1: Understanding the difference"
   ]
  },
  {
   "cell_type": "code",
   "execution_count": 1,
   "id": "e5a24cd2",
   "metadata": {},
   "outputs": [],
   "source": [
    "string = 'I want to see that <strong>amazing show</strong> again!'"
   ]
  },
  {
   "cell_type": "markdown",
   "id": "adffe8bd",
   "metadata": {},
   "source": [
    "- Write a `regex` expression to replace **HTML tags** with an empty string. Print out the result."
   ]
  },
  {
   "cell_type": "code",
   "execution_count": 3,
   "id": "5d926fdc",
   "metadata": {},
   "outputs": [
    {
     "name": "stdout",
     "output_type": "stream",
     "text": [
      "I want to see that amazing show again!\n"
     ]
    }
   ],
   "source": [
    "# Import re\n",
    "import re\n",
    "\n",
    "# Write a regex to eliminate tags\n",
    "string_notags = re.sub(r\"<.+?>\", \"\", string)\n",
    "\n",
    "# Print out the result\n",
    "print(string_notags)"
   ]
  },
  {
   "cell_type": "markdown",
   "id": "cb66b4be",
   "metadata": {},
   "source": [
    "## Example #2: Greedy matching"
   ]
  },
  {
   "cell_type": "code",
   "execution_count": 4,
   "id": "9ee31a3c",
   "metadata": {},
   "outputs": [
    {
     "name": "stdout",
     "output_type": "stream",
     "text": [
      "Was intending to finish editing my 536-page novel manuscript tonight, but that will probably not happen. And only 12 pages are left \n"
     ]
    }
   ],
   "source": [
    "sentiment_analysis = 'Was intending to finish editing my 536-page novel manuscript tonight, but that will probably not happen. And only 12 pages are left '\n",
    "print(sentiment_analysis)"
   ]
  },
  {
   "cell_type": "markdown",
   "id": "d80a7166",
   "metadata": {},
   "source": [
    "- Use a lazy quantifier to match all numbers that appear in the variable `sentiment_analysis`."
   ]
  },
  {
   "cell_type": "code",
   "execution_count": 5,
   "id": "39341ef6",
   "metadata": {},
   "outputs": [
    {
     "name": "stdout",
     "output_type": "stream",
     "text": [
      "['5', '3', '6', '1', '2']\n"
     ]
    }
   ],
   "source": [
    "# Write a lazy regex expression \n",
    "numbers_found_lazy = re.findall(r\"[0-9]+?\", sentiment_analysis)\n",
    "\n",
    "# Print out the result\n",
    "print(numbers_found_lazy)"
   ]
  },
  {
   "cell_type": "markdown",
   "id": "5ed83ed4",
   "metadata": {},
   "source": [
    "- Now, use a greedy quantifier to match all numbers that appear in the variable `sentiment_analysis`."
   ]
  },
  {
   "cell_type": "code",
   "execution_count": 6,
   "id": "254ead11",
   "metadata": {},
   "outputs": [
    {
     "name": "stdout",
     "output_type": "stream",
     "text": [
      "['536', '12']\n"
     ]
    }
   ],
   "source": [
    "# Write a greedy regex expression \n",
    "numbers_found_greedy = re.findall(r\"[0-9]+\", sentiment_analysis)\n",
    "\n",
    "# Print out the result\n",
    "print(numbers_found_greedy)"
   ]
  },
  {
   "cell_type": "markdown",
   "id": "9e8e7171",
   "metadata": {},
   "source": [
    "## Example #3: Lazy approach"
   ]
  },
  {
   "cell_type": "code",
   "execution_count": 7,
   "id": "129c543c",
   "metadata": {},
   "outputs": [
    {
     "name": "stdout",
     "output_type": "stream",
     "text": [
      "Put vacation photos online (They were so cute) a few yrs ago. PC crashed, and now I forget the name of the site (I'm crying). \n"
     ]
    }
   ],
   "source": [
    "sentiment_analysis = \"Put vacation photos online (They were so cute) a few yrs ago. PC crashed, and now I forget the name of the site (I'm crying). \"\n",
    "print(sentiment_analysis)"
   ]
  },
  {
   "cell_type": "markdown",
   "id": "7963ad56",
   "metadata": {},
   "source": [
    "- Use a greedy quantifier to match text that appears within parentheses in the variable `sentiment_analysis`."
   ]
  },
  {
   "cell_type": "code",
   "execution_count": 8,
   "id": "50428243",
   "metadata": {},
   "outputs": [
    {
     "name": "stdout",
     "output_type": "stream",
     "text": [
      "[\"(They were so cute) a few yrs ago. PC crashed, and now I forget the name of the site (I'm crying)\"]\n"
     ]
    }
   ],
   "source": [
    "# Write a greedy regex expression to match \n",
    "sentences_found_greedy = re.findall(r\"\\(.*\\)\", sentiment_analysis)\n",
    "\n",
    "# Print out the result\n",
    "print(sentences_found_greedy)"
   ]
  },
  {
   "cell_type": "markdown",
   "id": "d27ac751",
   "metadata": {},
   "source": [
    "- Now, use a lazy quantifier to match text that appears within parentheses in the variable `sentiment_analysis`."
   ]
  },
  {
   "cell_type": "code",
   "execution_count": 9,
   "id": "614db20a",
   "metadata": {},
   "outputs": [
    {
     "name": "stdout",
     "output_type": "stream",
     "text": [
      "['(They were so cute)', \"(I'm crying)\"]\n"
     ]
    }
   ],
   "source": [
    "# Write a lazy regex expression\n",
    "sentences_found_lazy = re.findall(r\"\\(.*?\\)\", sentiment_analysis)\n",
    "\n",
    "# Print out the results\n",
    "print(sentences_found_lazy)"
   ]
  }
 ],
 "metadata": {
  "kernelspec": {
   "display_name": "Python 3 (ipykernel)",
   "language": "python",
   "name": "python3"
  },
  "language_info": {
   "codemirror_mode": {
    "name": "ipython",
    "version": 3
   },
   "file_extension": ".py",
   "mimetype": "text/x-python",
   "name": "python",
   "nbconvert_exporter": "python",
   "pygments_lexer": "ipython3",
   "version": "3.11.9"
  }
 },
 "nbformat": 4,
 "nbformat_minor": 5
}
